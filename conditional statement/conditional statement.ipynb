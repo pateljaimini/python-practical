{
 "cells": [
  {
   "cell_type": "code",
   "execution_count": 1,
   "id": "3cdafbf7",
   "metadata": {},
   "outputs": [],
   "source": [
    "# conditional statement:-"
   ]
  },
  {
   "cell_type": "code",
   "execution_count": 2,
   "id": "2a1d9587",
   "metadata": {},
   "outputs": [],
   "source": [
    "#1. if - else statement:-\n",
    "# if condition:\n",
    "#         statement\n",
    "        \n",
    "# else:\n",
    "#          statement"
   ]
  },
  {
   "cell_type": "code",
   "execution_count": 3,
   "id": "4fb3adb7",
   "metadata": {},
   "outputs": [
    {
     "name": "stdout",
     "output_type": "stream",
     "text": [
      "true condition\n"
     ]
    }
   ],
   "source": [
    "if (True):\n",
    "           print('true condition')\n",
    "else:\n",
    "           print('false condition')"
   ]
  },
  {
   "cell_type": "code",
   "execution_count": 5,
   "id": "7a52308b",
   "metadata": {},
   "outputs": [
    {
     "name": "stdout",
     "output_type": "stream",
     "text": [
      "false condition\n"
     ]
    }
   ],
   "source": [
    "if (False):\n",
    "           print('true condition')\n",
    "else:\n",
    "           print('false condition')"
   ]
  },
  {
   "cell_type": "code",
   "execution_count": 6,
   "id": "b8e86696",
   "metadata": {},
   "outputs": [],
   "source": [
    "# false value - 0,False,'',{},[],(),None"
   ]
  },
  {
   "cell_type": "code",
   "execution_count": 8,
   "id": "7ccbfca8",
   "metadata": {},
   "outputs": [
    {
     "name": "stdout",
     "output_type": "stream",
     "text": [
      "false condition\n"
     ]
    }
   ],
   "source": [
    "if 0:\n",
    "           print('true condition')\n",
    "else:\n",
    "           print('false condition')"
   ]
  },
  {
   "cell_type": "code",
   "execution_count": 10,
   "id": "8b60a336",
   "metadata": {},
   "outputs": [
    {
     "name": "stdout",
     "output_type": "stream",
     "text": [
      "false condition\n"
     ]
    }
   ],
   "source": [
    "if {}:\n",
    "           print('true condition')\n",
    "else:\n",
    "           print('false condition')"
   ]
  },
  {
   "cell_type": "code",
   "execution_count": 12,
   "id": "70046abf",
   "metadata": {},
   "outputs": [
    {
     "name": "stdout",
     "output_type": "stream",
     "text": [
      "true condition\n"
     ]
    }
   ],
   "source": [
    "if 1:\n",
    "           print('true condition')\n",
    "else:\n",
    "           print('false condition')"
   ]
  },
  {
   "cell_type": "code",
   "execution_count": 14,
   "id": "8d2dba28",
   "metadata": {},
   "outputs": [
    {
     "name": "stdout",
     "output_type": "stream",
     "text": [
      "True condition\n"
     ]
    }
   ],
   "source": [
    "if ' ':\n",
    "    print('True condition')\n",
    "else:\n",
    "    print('False condition')"
   ]
  },
  {
   "cell_type": "code",
   "execution_count": 15,
   "id": "2f063892",
   "metadata": {},
   "outputs": [],
   "source": [
    "#2. el-if statement:-"
   ]
  },
  {
   "cell_type": "code",
   "execution_count": null,
   "id": "46c10f93",
   "metadata": {},
   "outputs": [],
   "source": [
    "# if condition:\n",
    "#     statement\n",
    "# elif condition:\n",
    "#     statement\n",
    "# elif condition:\n",
    "#     statement\n",
    "# else:\n",
    "#      statement"
   ]
  },
  {
   "cell_type": "code",
   "execution_count": 16,
   "id": "be39530b",
   "metadata": {},
   "outputs": [
    {
     "name": "stdout",
     "output_type": "stream",
     "text": [
      "if statement\n"
     ]
    }
   ],
   "source": [
    "if True:\n",
    "    print('if statement')\n",
    "elif True:\n",
    "    print('elif statement')\n",
    "else:\n",
    "    print('else statement')"
   ]
  },
  {
   "cell_type": "code",
   "execution_count": 18,
   "id": "babf8ab8",
   "metadata": {},
   "outputs": [
    {
     "name": "stdout",
     "output_type": "stream",
     "text": [
      "elif statement\n"
     ]
    }
   ],
   "source": [
    "if False:\n",
    "    print('if statement')\n",
    "elif True:\n",
    "    print('elif statement')\n",
    "else:\n",
    "    print('else statement')"
   ]
  },
  {
   "cell_type": "code",
   "execution_count": 20,
   "id": "41692876",
   "metadata": {},
   "outputs": [
    {
     "name": "stdout",
     "output_type": "stream",
     "text": [
      "else statement\n"
     ]
    }
   ],
   "source": [
    "if False:\n",
    "    print('if statement')\n",
    "elif False:\n",
    "    print('elif statement')\n",
    "else:\n",
    "    print('else statement')"
   ]
  },
  {
   "cell_type": "code",
   "execution_count": 21,
   "id": "e8f1bb76",
   "metadata": {},
   "outputs": [
    {
     "name": "stdout",
     "output_type": "stream",
     "text": [
      "elif statement\n"
     ]
    }
   ],
   "source": [
    "if 0:\n",
    "    print('if statement')\n",
    "elif True:\n",
    "    print('elif statement')\n",
    "else:\n",
    "    print('else statement')"
   ]
  },
  {
   "cell_type": "code",
   "execution_count": 22,
   "id": "8fddd1ed",
   "metadata": {},
   "outputs": [],
   "source": [
    "#3. Nested if -else:-"
   ]
  },
  {
   "cell_type": "code",
   "execution_count": 24,
   "id": "e90e84db",
   "metadata": {},
   "outputs": [
    {
     "name": "stdout",
     "output_type": "stream",
     "text": [
      "Nested if\n"
     ]
    }
   ],
   "source": [
    "if True:\n",
    "    if True:\n",
    "        print('Nested if')\n",
    "    else:\n",
    "        print('Netsed else')\n",
    "else:\n",
    "    print('Else')"
   ]
  },
  {
   "cell_type": "code",
   "execution_count": 26,
   "id": "79608a0e",
   "metadata": {},
   "outputs": [
    {
     "name": "stdout",
     "output_type": "stream",
     "text": [
      "Else\n"
     ]
    }
   ],
   "source": [
    "if False:\n",
    "    if True:\n",
    "        print('Nested if')\n",
    "    else:\n",
    "        print('Netsed else')\n",
    "else:\n",
    "    print('Else')"
   ]
  },
  {
   "cell_type": "code",
   "execution_count": 28,
   "id": "02793ab2",
   "metadata": {},
   "outputs": [
    {
     "name": "stdout",
     "output_type": "stream",
     "text": [
      "Netsed else\n"
     ]
    }
   ],
   "source": [
    "if True:\n",
    "    if False:\n",
    "        print('Nested if')\n",
    "    else:\n",
    "        print('Netsed else')\n",
    "else:\n",
    "    print('Else')"
   ]
  },
  {
   "cell_type": "code",
   "execution_count": 30,
   "id": "f0665029",
   "metadata": {},
   "outputs": [
    {
     "name": "stdout",
     "output_type": "stream",
     "text": [
      "Nested if\n"
     ]
    }
   ],
   "source": [
    "if True:\n",
    "    if True:\n",
    "        print('Nested if')\n",
    "    else:\n",
    "        print('Netsed else')\n",
    "else:\n",
    "    if True:\n",
    "        print('else if')\n",
    "    else:\n",
    "        print('else else')"
   ]
  },
  {
   "cell_type": "code",
   "execution_count": 32,
   "id": "ac4451ff",
   "metadata": {},
   "outputs": [
    {
     "name": "stdout",
     "output_type": "stream",
     "text": [
      "Netsed else\n"
     ]
    }
   ],
   "source": [
    "if True:\n",
    "    if False:\n",
    "        print('Nested if')\n",
    "    else:\n",
    "        print('Netsed else')\n",
    "else:\n",
    "    if True:\n",
    "        print('else if')\n",
    "    else:\n",
    "        print('else else')"
   ]
  },
  {
   "cell_type": "code",
   "execution_count": 34,
   "id": "b5aa8aa3",
   "metadata": {},
   "outputs": [
    {
     "name": "stdout",
     "output_type": "stream",
     "text": [
      "else if\n"
     ]
    }
   ],
   "source": [
    "if False:\n",
    "    if True:\n",
    "        print('Nested if')\n",
    "    else:\n",
    "        print('Netsed else')\n",
    "else:\n",
    "    if True:\n",
    "        print('else if')\n",
    "    else:\n",
    "        print('else else')"
   ]
  },
  {
   "cell_type": "code",
   "execution_count": 36,
   "id": "35332e0d",
   "metadata": {},
   "outputs": [
    {
     "name": "stdout",
     "output_type": "stream",
     "text": [
      "else else\n"
     ]
    }
   ],
   "source": [
    "if False:\n",
    "    if True:\n",
    "        print('Nested if')\n",
    "    else:\n",
    "        print('Netsed else')\n",
    "else:\n",
    "    if False:\n",
    "        print('else if')\n",
    "    else:\n",
    "        print('else else')"
   ]
  },
  {
   "cell_type": "code",
   "execution_count": 38,
   "id": "208f0020",
   "metadata": {},
   "outputs": [
    {
     "name": "stdout",
     "output_type": "stream",
     "text": [
      "Nested if\n"
     ]
    }
   ],
   "source": [
    "if True:\n",
    "    if True:\n",
    "        print('Nested if')\n",
    "    else:\n",
    "        print('Netsed else')\n",
    "\n",
    "    \n",
    "else:\n",
    "    if True:\n",
    "        print('else if')\n",
    "    else:\n",
    "        print('else else')"
   ]
  },
  {
   "cell_type": "code",
   "execution_count": 40,
   "id": "610c56dd",
   "metadata": {},
   "outputs": [
    {
     "name": "stdout",
     "output_type": "stream",
     "text": [
      "first part\n"
     ]
    }
   ],
   "source": [
    "# simple nested if statement:-\n",
    "\n",
    "if True:\n",
    "        if True:\n",
    "            print('first part')\n",
    "else:\n",
    "            print('second part')"
   ]
  },
  {
   "cell_type": "code",
   "execution_count": 44,
   "id": "6dad5ad7",
   "metadata": {},
   "outputs": [
    {
     "name": "stdout",
     "output_type": "stream",
     "text": [
      "else if\n"
     ]
    }
   ],
   "source": [
    "#nested if ,elif ,else:-\n",
    "\n",
    "if False:\n",
    "    if True:\n",
    "        print('Nested if')\n",
    "    else:\n",
    "        print('Netsed else')\n",
    "        \n",
    "elif False:\n",
    "    if False:\n",
    "             print('elif if')\n",
    "    else:\n",
    "             print('elfif else')\n",
    "else:\n",
    "    if True:\n",
    "        print('else if')\n",
    "    else:\n",
    "        print('else else')"
   ]
  }
 ],
 "metadata": {
  "kernelspec": {
   "display_name": "Python 3 (ipykernel)",
   "language": "python",
   "name": "python3"
  },
  "language_info": {
   "codemirror_mode": {
    "name": "ipython",
    "version": 3
   },
   "file_extension": ".py",
   "mimetype": "text/x-python",
   "name": "python",
   "nbconvert_exporter": "python",
   "pygments_lexer": "ipython3",
   "version": "3.10.5"
  }
 },
 "nbformat": 4,
 "nbformat_minor": 5
}
