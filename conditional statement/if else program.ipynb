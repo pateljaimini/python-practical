{
 "cells": [
  {
   "cell_type": "code",
   "execution_count": 1,
   "id": "36c6b85e",
   "metadata": {},
   "outputs": [],
   "source": [
    "#prog1. find grater in two number"
   ]
  },
  {
   "cell_type": "code",
   "execution_count": 11,
   "id": "abc9e7f4",
   "metadata": {},
   "outputs": [
    {
     "name": "stdout",
     "output_type": "stream",
     "text": [
      "enter your first number:-10\n",
      "enter your second number:-10\n",
      "oops!! a and b is same\n"
     ]
    }
   ],
   "source": [
    "a = int(input('enter your first number:-'))\n",
    "b = int(input('enter your second number:-'))\n",
    "\n",
    "if a>b:\n",
    "        print('A is greater')\n",
    "elif b>a:\n",
    "        print('B is greater')\n",
    "        \n",
    "else:\n",
    "        print('oops!! a and b is same')"
   ]
  },
  {
   "cell_type": "code",
   "execution_count": 12,
   "id": "44474190",
   "metadata": {},
   "outputs": [],
   "source": [
    "#prog2. find grater in three number"
   ]
  },
  {
   "cell_type": "code",
   "execution_count": 19,
   "id": "e13541ec",
   "metadata": {},
   "outputs": [
    {
     "name": "stdout",
     "output_type": "stream",
     "text": [
      "enter your first number:-10\n",
      "enter your second number:-30\n",
      "enter your third number:-20\n",
      "B is greater\n"
     ]
    }
   ],
   "source": [
    "a = int(input('enter your first number:-'))\n",
    "b = int(input('enter your second number:-'))\n",
    "c = int(input('enter your third number:-'))\n",
    "\n",
    "if a>b:\n",
    "        if a>c:\n",
    "                print('A is greater')\n",
    "        else:\n",
    "                print('c is greater')\n",
    "                \n",
    "else:\n",
    "       if b>c:\n",
    "               print('B is greater')\n",
    "       else:\n",
    "               print('c is greater')"
   ]
  },
  {
   "cell_type": "code",
   "execution_count": 20,
   "id": "6ce36b2c",
   "metadata": {},
   "outputs": [],
   "source": [
    "# prog 3:- \n",
    "# If  n is odd, print Weird\n",
    "# If n is even and in the inclusive range of  2 to 5 , print Not Weird\n",
    "# If n  is even and in the inclusive range of 6  to 20 , print Weird\n",
    "# If  n is even and greater than  20, print Not Weird"
   ]
  },
  {
   "cell_type": "code",
   "execution_count": 29,
   "id": "51d92f7d",
   "metadata": {},
   "outputs": [
    {
     "name": "stdout",
     "output_type": "stream",
     "text": [
      "enter your number:-1\n",
      "odd and weird\n"
     ]
    }
   ],
   "source": [
    "n = int(input('enter your number:-'))\n",
    "if (n%2)==0 and (n in range(2,6)):\n",
    "           print('even and not weird')\n",
    "elif (n%2)==0 and (n in range(6,21)):\n",
    "           print('weird')\n",
    "elif (n%2)==0 and (n>20):\n",
    "           print('not weird')\n",
    "else:\n",
    "           print('odd and weird')"
   ]
  },
  {
   "cell_type": "code",
   "execution_count": 1,
   "id": "0b76b76f",
   "metadata": {},
   "outputs": [],
   "source": [
    "#prog 4:-Write a Python program to check whether a number is negative, positive or zero."
   ]
  },
  {
   "cell_type": "code",
   "execution_count": 4,
   "id": "671f7cb9",
   "metadata": {},
   "outputs": [
    {
     "name": "stdout",
     "output_type": "stream",
     "text": [
      "enter your number:--1\n",
      "number is negative\n"
     ]
    }
   ],
   "source": [
    "n = float(input('enter your number:-'))\n",
    "\n",
    "if(n>0):\n",
    "        print('number is positive')\n",
    "elif(n<0):\n",
    "        print('number is negative')\n",
    "else:\n",
    "        print('number is zero')"
   ]
  },
  {
   "cell_type": "code",
   "execution_count": 5,
   "id": "5489526f",
   "metadata": {},
   "outputs": [],
   "source": [
    "#prog 5:- Write a Python program to check whether a number is divisible by 5 and 11 or not."
   ]
  },
  {
   "cell_type": "code",
   "execution_count": 13,
   "id": "d7ef0041",
   "metadata": {},
   "outputs": [
    {
     "name": "stdout",
     "output_type": "stream",
     "text": [
      "enter your number55\n",
      "number is divisible by  5 and 11\n"
     ]
    }
   ],
   "source": [
    "n = int(input('enter your number'))\n",
    "if(n%5==0 and n%11==0):\n",
    "         print('number is divisible by  5 and 11')\n",
    "else:\n",
    "         print('not divisible')"
   ]
  },
  {
   "cell_type": "code",
   "execution_count": 14,
   "id": "9a72bb54",
   "metadata": {},
   "outputs": [],
   "source": [
    "#prog 6:- Write a Python program to check whether a number is even or odd."
   ]
  },
  {
   "cell_type": "code",
   "execution_count": 19,
   "id": "33056079",
   "metadata": {},
   "outputs": [
    {
     "name": "stdout",
     "output_type": "stream",
     "text": [
      "enter your number2\n",
      "number is even\n"
     ]
    }
   ],
   "source": [
    "n = float(input('enter your number'))\n",
    "if(n%2==0):\n",
    "           print('number is even')\n",
    "else:\n",
    "           print('number is odd')"
   ]
  },
  {
   "cell_type": "code",
   "execution_count": 20,
   "id": "0a0fe0c1",
   "metadata": {},
   "outputs": [],
   "source": [
    "#prog 7:- Write a Python program to check whether a year is leap year or not."
   ]
  },
  {
   "cell_type": "code",
   "execution_count": 22,
   "id": "9a045883",
   "metadata": {},
   "outputs": [
    {
     "name": "stdout",
     "output_type": "stream",
     "text": [
      "enter your year2000\n",
      "2000 is leap year and centuary year!!\n"
     ]
    }
   ],
   "source": [
    "year = int(input('enter your year'))\n",
    "if(year%400==0) and (year%100==0):\n",
    "        print(f'{year} is leap year and centuary year!!')\n",
    "elif (year%4==0) and (year%100!=0):\n",
    "        print(f'{year} is leap year')\n",
    "else:\n",
    "        print('year is not leap year')"
   ]
  },
  {
   "cell_type": "code",
   "execution_count": 23,
   "id": "e5c94246",
   "metadata": {},
   "outputs": [],
   "source": [
    "# prog 8:- Write a Python program to check whether a character is alphabet or not."
   ]
  },
  {
   "cell_type": "code",
   "execution_count": 26,
   "id": "5d07608f",
   "metadata": {},
   "outputs": [
    {
     "name": "stdout",
     "output_type": "stream",
     "text": [
      "enter your character$\n",
      "not alphabet!!\n"
     ]
    }
   ],
   "source": [
    "n = input('enter your character')\n",
    "if (n.isalpha()):\n",
    "                 print('character is alphabet')\n",
    "else:\n",
    "                 print('not alphabet!!')"
   ]
  },
  {
   "cell_type": "code",
   "execution_count": 27,
   "id": "66a94482",
   "metadata": {},
   "outputs": [],
   "source": [
    "# prog 9:- Write a Python program to input any alphabet and check whether it is vowel or consonant."
   ]
  },
  {
   "cell_type": "code",
   "execution_count": 31,
   "id": "4586a711",
   "metadata": {},
   "outputs": [
    {
     "name": "stdout",
     "output_type": "stream",
     "text": [
      "enter your charactera\n",
      "character is alphabet and vowel\n"
     ]
    }
   ],
   "source": [
    "n = input('enter your character')\n",
    "if (n.isalpha()) and (n in ('a','e','i','o','u','A','E','I','O','U')) :\n",
    "                 print('character is alphabet and vowel')\n",
    "elif(n.isalpha()) and (n not in ('a','e','i','o','u','A','E','I','O','U')) :\n",
    "                 print('character is alphabet and consonant')\n",
    "else:\n",
    "                 print('is not character!!!!')"
   ]
  },
  {
   "cell_type": "code",
   "execution_count": 32,
   "id": "021eedb4",
   "metadata": {},
   "outputs": [],
   "source": [
    "# prog 10:- Write a Python program to input any character and check whether it is alphabet, digit or special character."
   ]
  },
  {
   "cell_type": "code",
   "execution_count": 39,
   "id": "d043f37d",
   "metadata": {},
   "outputs": [
    {
     "name": "stdout",
     "output_type": "stream",
     "text": [
      "enter your character:-#\n",
      "character is special symbol\n"
     ]
    }
   ],
   "source": [
    "n = input('enter your character:-')\n",
    "if (n.isalpha()):\n",
    "                  print('character is alphabet')\n",
    "elif(n.isdigit()):\n",
    "                  print('character is digit')\n",
    "else:\n",
    "                  print('character is special symbol')"
   ]
  },
  {
   "cell_type": "code",
   "execution_count": 40,
   "id": "3f365d23",
   "metadata": {},
   "outputs": [],
   "source": [
    "#prog 11:-Write a Python program to check whether a character is uppercase or lowercase alphabet."
   ]
  },
  {
   "cell_type": "code",
   "execution_count": 46,
   "id": "f09b19c0",
   "metadata": {},
   "outputs": [
    {
     "name": "stdout",
     "output_type": "stream",
     "text": [
      "enter your character:-C\n",
      "character is uppercase\n"
     ]
    }
   ],
   "source": [
    "n = input('enter your character:-')\n",
    "if (n.isalpha()) and (n.isupper()):\n",
    "                  print('character is uppercase')\n",
    "elif (n.isalpha()):\n",
    "                  print('character is lowercase')\n",
    "else:\n",
    "                  print('not alphabet!!!')"
   ]
  },
  {
   "cell_type": "code",
   "execution_count": 47,
   "id": "27e4e15f",
   "metadata": {},
   "outputs": [],
   "source": [
    "#prog 12:- Write a Python program to input week number and print week day."
   ]
  },
  {
   "cell_type": "code",
   "execution_count": 50,
   "id": "7e8e68bb",
   "metadata": {},
   "outputs": [
    {
     "name": "stdout",
     "output_type": "stream",
     "text": [
      "enter your weak number:-5\n",
      "FRIDAY\n"
     ]
    }
   ],
   "source": [
    "n = int(input('enter your weak number:-'))\n",
    "if (n==0):\n",
    "          print('SUNDAY')\n",
    "elif (n==1):\n",
    "          print('MONDAY')\n",
    "elif (n==2):\n",
    "          print('TUESDAY')\n",
    "elif (n==3):\n",
    "          print('WEDNESDAY')\n",
    "elif (n==4):\n",
    "          print('THURSDAY')\n",
    "elif (n==5):\n",
    "          print('FRIDAY')\n",
    "elif (n==6):\n",
    "          print('SATURDAY')\n",
    "else:\n",
    "           print('enter valid number!!')"
   ]
  },
  {
   "cell_type": "code",
   "execution_count": 54,
   "id": "a9bdb558",
   "metadata": {},
   "outputs": [],
   "source": [
    "# prog 13:- Write a Python program to input month number and print number of days in that month."
   ]
  },
  {
   "cell_type": "code",
   "execution_count": 58,
   "id": "de7c73c1",
   "metadata": {},
   "outputs": [
    {
     "name": "stdout",
     "output_type": "stream",
     "text": [
      "enter number of month:-1\n",
      "31 days\n"
     ]
    }
   ],
   "source": [
    "n = int(input('enter number of month:-'))\n",
    "if (n in (1,3,5,7,8,10,12)):\n",
    "              print('31 days')\n",
    "elif(n in (4,6,9,11)):\n",
    "              print('30 days')\n",
    "elif (n==2):\n",
    "              print('28 or 29 days')\n",
    "else:\n",
    "              print('enter valid number!!')"
   ]
  },
  {
   "cell_type": "code",
   "execution_count": 71,
   "id": "7f818ee2",
   "metadata": {},
   "outputs": [],
   "source": [
    "# prog 14:- Write a Python program to count total number of notes in given amount."
   ]
  },
  {
   "cell_type": "code",
   "execution_count": 79,
   "id": "cdb46825",
   "metadata": {},
   "outputs": [
    {
     "name": "stdout",
     "output_type": "stream",
     "text": [
      "enter your amount:-1000\n",
      "note2000- 0\n",
      "note500- 2\n",
      "note200- 0\n",
      "note100- 0\n"
     ]
    }
   ],
   "source": [
    "nt2k=nt5k=nt2=nt1=0\n",
    "n = int(input('enter your amount:-'))\n",
    "if n>=2000:\n",
    "    nt2k=n//2000\n",
    "    n%=2000\n",
    "if n>=500:\n",
    "    nt5k=n//500\n",
    "    n%=500\n",
    "if n>=200:\n",
    "    nt2=n//200\n",
    "    n%=200\n",
    "if n>=100:\n",
    "    nt1=n//100\n",
    "    n%=100\n",
    "print('note2000-',nt2k)\n",
    "print('note500-',nt5k)\n",
    "print('note200-',nt2)\n",
    "print('note100-',nt1)"
   ]
  },
  {
   "cell_type": "code",
   "execution_count": 1,
   "id": "74b10215",
   "metadata": {},
   "outputs": [],
   "source": [
    "# prog 15:- Write a Python program to input angles of a triangle and check whether triangle is valid or not."
   ]
  },
  {
   "cell_type": "code",
   "execution_count": 8,
   "id": "56f7031c",
   "metadata": {},
   "outputs": [
    {
     "name": "stdout",
     "output_type": "stream",
     "text": [
      "enter your first angle180\n",
      "enter your second angle0\n",
      "enter your third angle0\n",
      "valid triangle\n"
     ]
    }
   ],
   "source": [
    "a = int(input('enter your first angle'))\n",
    "b = int(input('enter your second angle'))\n",
    "c = int(input('enter your third angle'))\n",
    "sum=a+b+c\n",
    "if sum==180:\n",
    "     print('valid triangle')\n",
    "else:\n",
    "     print('not vallid')"
   ]
  },
  {
   "cell_type": "code",
   "execution_count": null,
   "id": "92e1cc99",
   "metadata": {},
   "outputs": [],
   "source": [
    "# prog 16:- Write a Python program to input all sides of a triangle and check whether triangle is valid or not.\n"
   ]
  },
  {
   "cell_type": "code",
   "execution_count": 11,
   "id": "ca7fd9e7",
   "metadata": {},
   "outputs": [
    {
     "name": "stdout",
     "output_type": "stream",
     "text": [
      "enter your first side2\n",
      "enter your second side2\n",
      "enter your third side2\n",
      "not vallid\n"
     ]
    }
   ],
   "source": [
    "a = int(input('enter your first side'))\n",
    "b = int(input('enter your second side'))\n",
    "c = int(input('enter your third side'))\n",
    "\n",
    "if a**2+b**2==c**2:\n",
    "     print('valid triangle')\n",
    "else:\n",
    "     print('not vallid')"
   ]
  },
  {
   "cell_type": "code",
   "execution_count": null,
   "id": "34458a8f",
   "metadata": {},
   "outputs": [],
   "source": [
    "#prog 17:- Write a Python program to check whether the triangle is equilateral, isosceles or scalene triangle."
   ]
  },
  {
   "cell_type": "code",
   "execution_count": 33,
   "id": "c6bd8fba",
   "metadata": {},
   "outputs": [
    {
     "name": "stdout",
     "output_type": "stream",
     "text": [
      "enter your first side50\n",
      "enter your second side40\n",
      "enter your third side90\n",
      " it is scalene\n"
     ]
    }
   ],
   "source": [
    "a = int(input('enter your first side'))\n",
    "b = int(input('enter your second side'))\n",
    "c = int(input('enter your third side'))\n",
    "sum=a+b+c\n",
    "if sum ==180:\n",
    "    if a==b==c:\n",
    "        print('triangle is equilateral')\n",
    "    elif (a==b or b==c or c==a):\n",
    "        print('triangle is isosceles')\n",
    "    else:\n",
    "        print(' it is scalene')\n",
    "                        \n",
    "else:\n",
    "     print('enter proper values for triangle ')"
   ]
  },
  {
   "cell_type": "code",
   "execution_count": 34,
   "id": "55940183",
   "metadata": {},
   "outputs": [],
   "source": [
    "# prog 18:- Write a Python program to find all roots of a quadratic equation."
   ]
  },
  {
   "cell_type": "code",
   "execution_count": 37,
   "id": "d1b23336",
   "metadata": {},
   "outputs": [
    {
     "name": "stdout",
     "output_type": "stream",
     "text": [
      "enter your first value6\n",
      "enter your second value17\n",
      "enter your third value12\n",
      "the solution is -48.0\n",
      "the solution is -54.0\n"
     ]
    }
   ],
   "source": [
    "a = float(input('enter your first value'))\n",
    "b = float(input('enter your second value'))\n",
    "c = float(input('enter your third value'))\n",
    "\n",
    "x = ((-b)+(b**2-4*a*c)**0.5)/2*a\n",
    "\n",
    "print('the solution is',x)\n",
    "\n",
    "x1 = ((-b)-(b**2-4*a*c)**0.5)/2*a\n",
    "\n",
    "print('the solution is',x1)"
   ]
  },
  {
   "cell_type": "code",
   "execution_count": 38,
   "id": "7427c6dd",
   "metadata": {},
   "outputs": [],
   "source": [
    "# prog 19:- Write a Python program to calculate profit or loss."
   ]
  },
  {
   "cell_type": "code",
   "execution_count": 41,
   "id": "bf15ba8e",
   "metadata": {},
   "outputs": [
    {
     "name": "stdout",
     "output_type": "stream",
     "text": [
      "enter your product price1000\n",
      "enter your selling price200\n",
      "loss amount is 800\n"
     ]
    }
   ],
   "source": [
    "cost_price = int(input('enter your product price'))\n",
    "selling_price = int(input('enter your selling price'))\n",
    "\n",
    "if cost_price > selling_price:\n",
    "    loss = cost_price - selling_price\n",
    "    print(f'loss amount is {loss}')\n",
    "    \n",
    "elif cost_price < selling_price:\n",
    "    profit = selling_price - cost_price\n",
    "    print(f'profit amount is {profit}')\n",
    "    \n",
    "else:\n",
    "      print('no loss no profit!!')\n"
   ]
  },
  {
   "cell_type": "code",
   "execution_count": null,
   "id": "72599ce6",
   "metadata": {},
   "outputs": [],
   "source": [
    "# prog 20:-Write a Python program to input marks of five subjects Physics, Chemistry, Biology, Mathematics and Computer. Calculate percentage and grade according to following: \n",
    "Percentage >= 90% : Grade A \n",
    "Percentage >= 80% : Grade B \n",
    "Percentage >= 70% : Grade C \n",
    "Percentage >= 60% : Grade D \n",
    "Percentage >= 40% : Grade E \n",
    "Percentage < 40% : Grade F"
   ]
  },
  {
   "cell_type": "code",
   "execution_count": 44,
   "id": "0ec8e6ad",
   "metadata": {},
   "outputs": [
    {
     "name": "stdout",
     "output_type": "stream",
     "text": [
      "enter your marks40\n",
      "enter your marks55\n",
      "enter your marks65\n",
      "enter your marks65\n",
      "enter your marks56\n",
      "percentage is 76.8\n",
      "Grade E\n"
     ]
    }
   ],
   "source": [
    "Physics = int(input('enter your marks'))\n",
    "Chemistry = int(input('enter your marks'))\n",
    "Biology   = int(input('enter your marks'))\n",
    "Mathematics = int(input('enter your marks'))\n",
    "Computer    = int(input('enter your marks'))\n",
    "\n",
    "total= Physics+Chemistry+Biology+Mathematics+Computer\n",
    "\n",
    "Percentage=(total/500)*100\n",
    "print(f'percentage is {percentage}')\n",
    "\n",
    "if Percentage >= 90 :\n",
    "                       print('grade A')\n",
    "elif percentage >= 80:\n",
    "                       print('grade B')\n",
    "elif Percentage >= 70: \n",
    "                        print('Grade C')\n",
    "elif Percentage >= 60: \n",
    "                        print('Grade D') \n",
    "elif Percentage >= 40: \n",
    "                        print('Grade E') \n",
    "elif Percentage < 40: \n",
    "                        print('Grade F')"
   ]
  },
  {
   "cell_type": "code",
   "execution_count": null,
   "id": "ca5095eb",
   "metadata": {},
   "outputs": [],
   "source": [
    "# prog 21:- Write a Python program to input basic salary of an employee and calculate its Gross salary according to following: \n",
    "\n",
    "Basic Salary <= 10000 : HRA = 20%, DA = 80% \n",
    "Basic Salary <= 20000 : HRA = 25%, DA = 90% \n",
    "Basic Salary >20000 : HRA = 30%, DA = 95%"
   ]
  },
  {
   "cell_type": "code",
   "execution_count": 61,
   "id": "631b3542",
   "metadata": {},
   "outputs": [
    {
     "name": "stdout",
     "output_type": "stream",
     "text": [
      "enter your basic salary50000\n",
      "gross salary is112500.0\n"
     ]
    }
   ],
   "source": [
    "Basic_Salary = int(input('enter your basic salary'))\n",
    "\n",
    "if Basic_Salary <= 10000 : \n",
    "        gross_salary = Basic_Salary + Basic_Salary*0.20 + Basic_Salary*0.80\n",
    "        print(f'gross salary is{gross_salary}')\n",
    "elif Basic_Salary <= 20000 : \n",
    "        gross_salary = Basic_Salary + Basic_Salary*0.25 + Basic_Salary*0.90\n",
    "        print(f'gross salary is{gross_salary}')\n",
    "elif Basic_Salary > 20000 : \n",
    "        gross_salary = Basic_Salary + Basic_Salary*0.30 + Basic_Salary*0.95\n",
    "        print(f'gross salary is{gross_salary}')"
   ]
  }
 ],
 "metadata": {
  "kernelspec": {
   "display_name": "Python 3 (ipykernel)",
   "language": "python",
   "name": "python3"
  },
  "language_info": {
   "codemirror_mode": {
    "name": "ipython",
    "version": 3
   },
   "file_extension": ".py",
   "mimetype": "text/x-python",
   "name": "python",
   "nbconvert_exporter": "python",
   "pygments_lexer": "ipython3",
   "version": "3.10.5"
  }
 },
 "nbformat": 4,
 "nbformat_minor": 5
}
