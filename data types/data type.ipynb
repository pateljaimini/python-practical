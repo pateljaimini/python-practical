{
 "cells": [
  {
   "cell_type": "code",
   "execution_count": 2,
   "id": "2401a307",
   "metadata": {},
   "outputs": [],
   "source": [
    "# variable:-\n",
    "#rules:-\n",
    " #   1. can not start with numbers\n",
    "  #  2. can not add special syambol/character(#,@,!.$,%,^,&,*,),),+....etc)except _underscore\n",
    "   # 3. can not add space"
   ]
  },
  {
   "cell_type": "code",
   "execution_count": 4,
   "id": "be30c6df",
   "metadata": {},
   "outputs": [
    {
     "data": {
      "text/plain": [
       "int"
      ]
     },
     "execution_count": 4,
     "metadata": {},
     "output_type": "execute_result"
    }
   ],
   "source": [
    "#data type of the variable:-\n",
    "#ex:=\n",
    "type(a)"
   ]
  },
  {
   "cell_type": "code",
   "execution_count": 5,
   "id": "e5626562",
   "metadata": {},
   "outputs": [],
   "source": [
    "#1.numbers(int,float,complex...)"
   ]
  },
  {
   "cell_type": "code",
   "execution_count": 6,
   "id": "84b567fc",
   "metadata": {},
   "outputs": [
    {
     "data": {
      "text/plain": [
       "int"
      ]
     },
     "execution_count": 6,
     "metadata": {},
     "output_type": "execute_result"
    }
   ],
   "source": [
    "#int:-(0,-1,11......%)\n",
    "b = 0\n",
    "type(b)"
   ]
  },
  {
   "cell_type": "code",
   "execution_count": 7,
   "id": "439627de",
   "metadata": {},
   "outputs": [
    {
     "data": {
      "text/plain": [
       "int"
      ]
     },
     "execution_count": 7,
     "metadata": {},
     "output_type": "execute_result"
    }
   ],
   "source": [
    "b=-1\n",
    "type(b)"
   ]
  },
  {
   "cell_type": "code",
   "execution_count": 8,
   "id": "b828ea7c",
   "metadata": {},
   "outputs": [
    {
     "data": {
      "text/plain": [
       "int"
      ]
     },
     "execution_count": 8,
     "metadata": {},
     "output_type": "execute_result"
    }
   ],
   "source": [
    "b=11\n",
    "type(b)"
   ]
  },
  {
   "cell_type": "code",
   "execution_count": 9,
   "id": "d0ab4df1",
   "metadata": {},
   "outputs": [],
   "source": [
    "#2.float:-"
   ]
  },
  {
   "cell_type": "code",
   "execution_count": 10,
   "id": "ef9fada3",
   "metadata": {},
   "outputs": [
    {
     "data": {
      "text/plain": [
       "float"
      ]
     },
     "execution_count": 10,
     "metadata": {},
     "output_type": "execute_result"
    }
   ],
   "source": [
    "c= 10.10\n",
    "type(c)"
   ]
  },
  {
   "cell_type": "code",
   "execution_count": 11,
   "id": "aafbb760",
   "metadata": {},
   "outputs": [
    {
     "data": {
      "text/plain": [
       "float"
      ]
     },
     "execution_count": 11,
     "metadata": {},
     "output_type": "execute_result"
    }
   ],
   "source": [
    "c =10/10\n",
    "type(c)"
   ]
  },
  {
   "cell_type": "code",
   "execution_count": 12,
   "id": "582f0150",
   "metadata": {},
   "outputs": [
    {
     "data": {
      "text/plain": [
       "complex"
      ]
     },
     "execution_count": 12,
     "metadata": {},
     "output_type": "execute_result"
    }
   ],
   "source": [
    "#complex:-\n",
    "d = 3+4j\n",
    "type(d)"
   ]
  },
  {
   "cell_type": "markdown",
   "id": "e62e3313",
   "metadata": {},
   "source": [
    "#2.string:-imutable (we can not change value of created string)\n"
   ]
  },
  {
   "cell_type": "code",
   "execution_count": 13,
   "id": "e54aca97",
   "metadata": {},
   "outputs": [
    {
     "name": "stdout",
     "output_type": "stream",
     "text": [
      "hello hello hello\n",
      "               i am jaimini\n"
     ]
    }
   ],
   "source": [
    "s ='hello'\n",
    "s1=\"hello\"\n",
    "s2='''hello\n",
    "               i am jaimini'''\n",
    "type(s)\n",
    "print(s,s1,s2)"
   ]
  },
  {
   "cell_type": "code",
   "execution_count": 14,
   "id": "1f8ed5f9",
   "metadata": {},
   "outputs": [
    {
     "data": {
      "text/plain": [
       "\"\\n\\n\\n\\t\\n'\\n\\\\\\n\""
      ]
     },
     "execution_count": 14,
     "metadata": {},
     "output_type": "execute_result"
    }
   ],
   "source": [
    "#escape sequence character:-\n",
    "'''\n",
    "\\n\n",
    "\\t\n",
    "\\'\n",
    "\\\\\n",
    "'''"
   ]
  },
  {
   "cell_type": "code",
   "execution_count": 15,
   "id": "ce02f4d1",
   "metadata": {},
   "outputs": [
    {
     "name": "stdout",
     "output_type": "stream",
     "text": [
      "hello\n",
      "how are you?\n"
     ]
    }
   ],
   "source": [
    "j = 'hello\\nhow are you?'\n",
    "print(j)"
   ]
  },
  {
   "cell_type": "code",
   "execution_count": 16,
   "id": "3f415476",
   "metadata": {},
   "outputs": [
    {
     "name": "stdout",
     "output_type": "stream",
     "text": [
      "hello\thow are you?\n"
     ]
    }
   ],
   "source": [
    "j =\"hello\\thow are you?\"\n",
    "print(j)"
   ]
  },
  {
   "cell_type": "code",
   "execution_count": 17,
   "id": "b4897d31",
   "metadata": {},
   "outputs": [
    {
     "name": "stdout",
     "output_type": "stream",
     "text": [
      "hello' \n",
      "how are you?\n",
      "\n"
     ]
    }
   ],
   "source": [
    "j = '''hello\\' \n",
    "how are you?\n",
    "'''\n",
    "print(j)"
   ]
  },
  {
   "cell_type": "code",
   "execution_count": 18,
   "id": "8b72ba96",
   "metadata": {},
   "outputs": [
    {
     "name": "stdout",
     "output_type": "stream",
     "text": [
      "hello i am \\jaimini\n"
     ]
    }
   ],
   "source": [
    "j = 'hello i am \\\\jaimini'\n",
    "print(j)"
   ]
  },
  {
   "cell_type": "code",
   "execution_count": 19,
   "id": "746cc42f",
   "metadata": {},
   "outputs": [],
   "source": [
    "#3.tuple():-imutable(we can not change value of created tuple)"
   ]
  },
  {
   "cell_type": "code",
   "execution_count": 20,
   "id": "b635a8a9",
   "metadata": {},
   "outputs": [
    {
     "data": {
      "text/plain": [
       "tuple"
      ]
     },
     "execution_count": 20,
     "metadata": {},
     "output_type": "execute_result"
    }
   ],
   "source": [
    "t =(10,20,30)\n",
    "type(t)"
   ]
  },
  {
   "cell_type": "code",
   "execution_count": 21,
   "id": "fa015294",
   "metadata": {},
   "outputs": [
    {
     "data": {
      "text/plain": [
       "tuple"
      ]
     },
     "execution_count": 21,
     "metadata": {},
     "output_type": "execute_result"
    }
   ],
   "source": [
    "t=(10,'jaimini',True,10.20)\n",
    "type(t)"
   ]
  },
  {
   "cell_type": "code",
   "execution_count": 22,
   "id": "f93088b4",
   "metadata": {},
   "outputs": [
    {
     "data": {
      "text/plain": [
       "int"
      ]
     },
     "execution_count": 22,
     "metadata": {},
     "output_type": "execute_result"
    }
   ],
   "source": [
    "t=(10)\n",
    "type(t)"
   ]
  },
  {
   "cell_type": "code",
   "execution_count": 23,
   "id": "54260f1b",
   "metadata": {},
   "outputs": [
    {
     "name": "stdout",
     "output_type": "stream",
     "text": [
      "20\n"
     ]
    }
   ],
   "source": [
    "t=(10,)\n",
    "type(t)\n",
    "t =20\n",
    "print(t)"
   ]
  },
  {
   "cell_type": "code",
   "execution_count": 24,
   "id": "6492a0f6",
   "metadata": {},
   "outputs": [
    {
     "name": "stdout",
     "output_type": "stream",
     "text": [
      "(10, 20, 30)\n"
     ]
    }
   ],
   "source": [
    "t =(10,20,30)\n",
    "print(t)"
   ]
  },
  {
   "cell_type": "code",
   "execution_count": 27,
   "id": "5aad1742",
   "metadata": {},
   "outputs": [
    {
     "name": "stdout",
     "output_type": "stream",
     "text": [
      "jaimini,jigi\n"
     ]
    }
   ],
   "source": [
    "d ='jaimini,jigi'\n",
    "print(d)"
   ]
  },
  {
   "cell_type": "code",
   "execution_count": 28,
   "id": "512b6501",
   "metadata": {},
   "outputs": [],
   "source": [
    "#4.list[]:-mutable(we can assign a value and change the list)"
   ]
  },
  {
   "cell_type": "code",
   "execution_count": 30,
   "id": "117ca59a",
   "metadata": {},
   "outputs": [
    {
     "data": {
      "text/plain": [
       "list"
      ]
     },
     "execution_count": 30,
     "metadata": {},
     "output_type": "execute_result"
    }
   ],
   "source": [
    "l = [10,'jaimini',10.20,True]\n",
    "type(l)"
   ]
  },
  {
   "cell_type": "code",
   "execution_count": 32,
   "id": "3bfdde7f",
   "metadata": {},
   "outputs": [
    {
     "data": {
      "text/plain": [
       "list"
      ]
     },
     "execution_count": 32,
     "metadata": {},
     "output_type": "execute_result"
    }
   ],
   "source": [
    "l =[]\n",
    "type(l)"
   ]
  },
  {
   "cell_type": "code",
   "execution_count": 34,
   "id": "23b1dde5",
   "metadata": {},
   "outputs": [
    {
     "name": "stdout",
     "output_type": "stream",
     "text": [
      "[20, 'jamu', 20.3]\n"
     ]
    }
   ],
   "source": [
    "l = [20,'jamu',20.30]\n",
    "print(l)"
   ]
  },
  {
   "cell_type": "code",
   "execution_count": 36,
   "id": "fd43ea1a",
   "metadata": {},
   "outputs": [
    {
     "name": "stdout",
     "output_type": "stream",
     "text": [
      "[20, 'jaimini', 20.3]\n"
     ]
    }
   ],
   "source": [
    "l[1] ='jaimini'\n",
    "print(l)"
   ]
  },
  {
   "cell_type": "code",
   "execution_count": 37,
   "id": "c5d988ca",
   "metadata": {},
   "outputs": [],
   "source": [
    "#5.set{}:-mutable,unique,unorderd (but we can not assign the value)"
   ]
  },
  {
   "cell_type": "code",
   "execution_count": 39,
   "id": "0f92d522",
   "metadata": {},
   "outputs": [
    {
     "data": {
      "text/plain": [
       "set"
      ]
     },
     "execution_count": 39,
     "metadata": {},
     "output_type": "execute_result"
    }
   ],
   "source": [
    "s ={10,20,'jai',20.20}\n",
    "type(s)"
   ]
  },
  {
   "cell_type": "code",
   "execution_count": 41,
   "id": "eca753b0",
   "metadata": {},
   "outputs": [
    {
     "name": "stdout",
     "output_type": "stream",
     "text": [
      "{10, 20, 'jai', 20.2}\n"
     ]
    }
   ],
   "source": [
    "print(s)"
   ]
  },
  {
   "cell_type": "code",
   "execution_count": 43,
   "id": "8918744d",
   "metadata": {},
   "outputs": [
    {
     "name": "stdout",
     "output_type": "stream",
     "text": [
      "{10, 20}\n"
     ]
    }
   ],
   "source": [
    "s1 ={10,10,20,20}\n",
    "print(s1)"
   ]
  },
  {
   "cell_type": "code",
   "execution_count": 45,
   "id": "f1ed9276",
   "metadata": {},
   "outputs": [
    {
     "name": "stdout",
     "output_type": "stream",
     "text": [
      "{40, 20, 30}\n"
     ]
    }
   ],
   "source": [
    "s1={20,30,40}\n",
    "print(s1)"
   ]
  },
  {
   "cell_type": "code",
   "execution_count": 47,
   "id": "eea95b44",
   "metadata": {},
   "outputs": [
    {
     "ename": "SyntaxError",
     "evalue": "invalid syntax (3005414913.py, line 1)",
     "output_type": "error",
     "traceback": [
      "\u001b[1;36m  Cell \u001b[1;32mIn [47], line 1\u001b[1;36m\u001b[0m\n\u001b[1;33m    s1{0}=50\u001b[0m\n\u001b[1;37m      ^\u001b[0m\n\u001b[1;31mSyntaxError\u001b[0m\u001b[1;31m:\u001b[0m invalid syntax\n"
     ]
    }
   ],
   "source": [
    "s1{0}=50\n",
    "print(s1)"
   ]
  },
  {
   "cell_type": "code",
   "execution_count": 48,
   "id": "14f5d816",
   "metadata": {},
   "outputs": [],
   "source": [
    "#6.dictionary{key:value}:-mutable,but never repeat a key,unique key"
   ]
  },
  {
   "cell_type": "code",
   "execution_count": 50,
   "id": "ba8e444b",
   "metadata": {},
   "outputs": [
    {
     "data": {
      "text/plain": [
       "dict"
      ]
     },
     "execution_count": 50,
     "metadata": {},
     "output_type": "execute_result"
    }
   ],
   "source": [
    "d ={'a':20}\n",
    "type(d)"
   ]
  },
  {
   "cell_type": "code",
   "execution_count": 53,
   "id": "3c73b25c",
   "metadata": {},
   "outputs": [
    {
     "name": "stdout",
     "output_type": "stream",
     "text": [
      "{'a': 30}\n"
     ]
    }
   ],
   "source": [
    "d ={'a':30}\n",
    "print(d)"
   ]
  },
  {
   "cell_type": "code",
   "execution_count": 55,
   "id": "31babce7",
   "metadata": {},
   "outputs": [
    {
     "ename": "SyntaxError",
     "evalue": "invalid syntax (2977338033.py, line 1)",
     "output_type": "error",
     "traceback": [
      "\u001b[1;36m  Cell \u001b[1;32mIn [55], line 1\u001b[1;36m\u001b[0m\n\u001b[1;33m    d{0} ={'b':30}\u001b[0m\n\u001b[1;37m     ^\u001b[0m\n\u001b[1;31mSyntaxError\u001b[0m\u001b[1;31m:\u001b[0m invalid syntax\n"
     ]
    }
   ],
   "source": [
    "d{0} ={'b':30}\n",
    "print(d)"
   ]
  },
  {
   "cell_type": "code",
   "execution_count": 57,
   "id": "7586c3a7",
   "metadata": {},
   "outputs": [
    {
     "name": "stdout",
     "output_type": "stream",
     "text": [
      "20\n"
     ]
    }
   ],
   "source": [
    "d ={'a':20,'b':20,'a':30}\n",
    "type(d)\n",
    "print(d['b'])"
   ]
  },
  {
   "cell_type": "code",
   "execution_count": 59,
   "id": "a6470139",
   "metadata": {},
   "outputs": [
    {
     "name": "stdout",
     "output_type": "stream",
     "text": [
      "in a quick manner\n",
      "student\n",
      "{'fast': 'in a quick manner', 'jaimini': 'student'}\n"
     ]
    }
   ],
   "source": [
    "#Ex:=\n",
    "mydict = {\n",
    "              \"fast\":\"in a quick manner\",\n",
    "              \"jaimini\":\"student\",\n",
    "}\n",
    "print(mydict[\"fast\"])\n",
    "print(mydict[\"jaimini\"])\n",
    "print(mydict)"
   ]
  },
  {
   "cell_type": "code",
   "execution_count": 60,
   "id": "91762abb",
   "metadata": {},
   "outputs": [],
   "source": [
    "######nested dictionary:-"
   ]
  },
  {
   "cell_type": "code",
   "execution_count": 63,
   "id": "9bcf6d82",
   "metadata": {},
   "outputs": [
    {
     "name": "stdout",
     "output_type": "stream",
     "text": [
      "{'marks': {'jaimini': 80}}\n",
      "80\n",
      "{'marks': [45, 50]}\n"
     ]
    }
   ],
   "source": [
    "mydict = {\n",
    "            \"marks\":{'jaimini':80}\n",
    "}\n",
    "print(mydict)\n",
    "print(mydict['marks']['jaimini'])\n",
    "mydict['marks'] =[45,50]\n",
    "print(mydict)"
   ]
  },
  {
   "cell_type": "code",
   "execution_count": 64,
   "id": "9471ba54",
   "metadata": {},
   "outputs": [],
   "source": [
    "#7.boolean:-\n"
   ]
  },
  {
   "cell_type": "code",
   "execution_count": 66,
   "id": "735a4043",
   "metadata": {},
   "outputs": [
    {
     "data": {
      "text/plain": [
       "bool"
      ]
     },
     "execution_count": 66,
     "metadata": {},
     "output_type": "execute_result"
    }
   ],
   "source": [
    "a = True\n",
    "type(a)"
   ]
  },
  {
   "cell_type": "code",
   "execution_count": 67,
   "id": "8c1ff168",
   "metadata": {},
   "outputs": [],
   "source": [
    "#8.none:-"
   ]
  },
  {
   "cell_type": "code",
   "execution_count": 68,
   "id": "e2cb4c72",
   "metadata": {},
   "outputs": [
    {
     "data": {
      "text/plain": [
       "NoneType"
      ]
     },
     "execution_count": 68,
     "metadata": {},
     "output_type": "execute_result"
    }
   ],
   "source": [
    "b = None\n",
    "type(b)"
   ]
  }
 ],
 "metadata": {
  "kernelspec": {
   "display_name": "Python 3 (ipykernel)",
   "language": "python",
   "name": "python3"
  },
  "language_info": {
   "codemirror_mode": {
    "name": "ipython",
    "version": 3
   },
   "file_extension": ".py",
   "mimetype": "text/x-python",
   "name": "python",
   "nbconvert_exporter": "python",
   "pygments_lexer": "ipython3",
   "version": "3.10.5"
  }
 },
 "nbformat": 4,
 "nbformat_minor": 5
}
