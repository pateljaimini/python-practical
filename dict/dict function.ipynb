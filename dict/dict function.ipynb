{
 "cells": [
  {
   "cell_type": "code",
   "execution_count": 1,
   "id": "2d33ea7b",
   "metadata": {},
   "outputs": [],
   "source": [
    "#dictionary:- mutable but key is unique"
   ]
  },
  {
   "cell_type": "code",
   "execution_count": 3,
   "id": "5f531b60",
   "metadata": {},
   "outputs": [
    {
     "name": "stdout",
     "output_type": "stream",
     "text": [
      "['__class__', '__class_getitem__', '__contains__', '__delattr__', '__delitem__', '__dir__', '__doc__', '__eq__', '__format__', '__ge__', '__getattribute__', '__getitem__', '__gt__', '__hash__', '__init__', '__init_subclass__', '__ior__', '__iter__', '__le__', '__len__', '__lt__', '__ne__', '__new__', '__or__', '__reduce__', '__reduce_ex__', '__repr__', '__reversed__', '__ror__', '__setattr__', '__setitem__', '__sizeof__', '__str__', '__subclasshook__', 'clear', 'copy', 'fromkeys', 'get', 'items', 'keys', 'pop', 'popitem', 'setdefault', 'update', 'values']\n"
     ]
    }
   ],
   "source": [
    "print(dir(dict))"
   ]
  },
  {
   "cell_type": "code",
   "execution_count": 4,
   "id": "8e0132a3",
   "metadata": {},
   "outputs": [],
   "source": [
    "d={1:'abc','name':'jaimini',3:33.30}"
   ]
  },
  {
   "cell_type": "code",
   "execution_count": 6,
   "id": "4029eda5",
   "metadata": {},
   "outputs": [
    {
     "data": {
      "text/plain": [
       "dict_keys([1, 'name', 3])"
      ]
     },
     "execution_count": 6,
     "metadata": {},
     "output_type": "execute_result"
    }
   ],
   "source": [
    "d.keys()"
   ]
  },
  {
   "cell_type": "code",
   "execution_count": 9,
   "id": "2234fd7c",
   "metadata": {},
   "outputs": [
    {
     "data": {
      "text/plain": [
       "dict_values(['abc', 'jaimini', 33.3])"
      ]
     },
     "execution_count": 9,
     "metadata": {},
     "output_type": "execute_result"
    }
   ],
   "source": [
    "d.values()"
   ]
  },
  {
   "cell_type": "code",
   "execution_count": 11,
   "id": "0dac533b",
   "metadata": {},
   "outputs": [
    {
     "data": {
      "text/plain": [
       "dict_items([(1, 'abc'), ('name', 'jaimini'), (3, 33.3)])"
      ]
     },
     "execution_count": 11,
     "metadata": {},
     "output_type": "execute_result"
    }
   ],
   "source": [
    "d.items()"
   ]
  },
  {
   "cell_type": "code",
   "execution_count": 13,
   "id": "454692a0",
   "metadata": {},
   "outputs": [
    {
     "data": {
      "text/plain": [
       "'abc'"
      ]
     },
     "execution_count": 13,
     "metadata": {},
     "output_type": "execute_result"
    }
   ],
   "source": [
    "d.get(1)"
   ]
  },
  {
   "cell_type": "code",
   "execution_count": 16,
   "id": "d365a9ab",
   "metadata": {},
   "outputs": [],
   "source": [
    "d.get('jaimini') # only for key"
   ]
  },
  {
   "cell_type": "code",
   "execution_count": 19,
   "id": "f9d20313",
   "metadata": {},
   "outputs": [],
   "source": [
    "n=d.get('jaimini')"
   ]
  },
  {
   "cell_type": "code",
   "execution_count": 22,
   "id": "e8519207",
   "metadata": {},
   "outputs": [
    {
     "name": "stdout",
     "output_type": "stream",
     "text": [
      "None\n"
     ]
    }
   ],
   "source": [
    "print(n)"
   ]
  },
  {
   "cell_type": "code",
   "execution_count": 24,
   "id": "328e3e7a",
   "metadata": {},
   "outputs": [],
   "source": [
    "d.setdefault('addr')"
   ]
  },
  {
   "cell_type": "code",
   "execution_count": 26,
   "id": "fa0e1672",
   "metadata": {},
   "outputs": [
    {
     "data": {
      "text/plain": [
       "{1: 'abc', 'name': 'jaimini', 3: 33.3, 'addr': None}"
      ]
     },
     "execution_count": 26,
     "metadata": {},
     "output_type": "execute_result"
    }
   ],
   "source": [
    "d"
   ]
  },
  {
   "cell_type": "code",
   "execution_count": 28,
   "id": "cba68c32",
   "metadata": {},
   "outputs": [],
   "source": [
    "d['addr']='kherva'"
   ]
  },
  {
   "cell_type": "code",
   "execution_count": 30,
   "id": "150f16e3",
   "metadata": {},
   "outputs": [
    {
     "data": {
      "text/plain": [
       "{1: 'abc', 'name': 'jaimini', 3: 33.3, 'addr': 'kherva'}"
      ]
     },
     "execution_count": 30,
     "metadata": {},
     "output_type": "execute_result"
    }
   ],
   "source": [
    "d"
   ]
  },
  {
   "cell_type": "code",
   "execution_count": 33,
   "id": "0a74b93b",
   "metadata": {},
   "outputs": [
    {
     "ename": "KeyError",
     "evalue": "1",
     "output_type": "error",
     "traceback": [
      "\u001b[1;31m---------------------------------------------------------------------------\u001b[0m",
      "\u001b[1;31mKeyError\u001b[0m                                  Traceback (most recent call last)",
      "Cell \u001b[1;32mIn [33], line 1\u001b[0m\n\u001b[1;32m----> 1\u001b[0m \u001b[43md\u001b[49m\u001b[38;5;241;43m.\u001b[39;49m\u001b[43mpop\u001b[49m\u001b[43m(\u001b[49m\u001b[38;5;241;43m1\u001b[39;49m\u001b[43m)\u001b[49m\n",
      "\u001b[1;31mKeyError\u001b[0m: 1"
     ]
    }
   ],
   "source": [
    "d.pop(1)"
   ]
  },
  {
   "cell_type": "code",
   "execution_count": 35,
   "id": "49a1c1ea",
   "metadata": {},
   "outputs": [
    {
     "data": {
      "text/plain": [
       "{'name': 'jaimini', 3: 33.3, 'addr': 'kherva'}"
      ]
     },
     "execution_count": 35,
     "metadata": {},
     "output_type": "execute_result"
    }
   ],
   "source": [
    "d"
   ]
  },
  {
   "cell_type": "code",
   "execution_count": 37,
   "id": "b7a8b65b",
   "metadata": {},
   "outputs": [
    {
     "data": {
      "text/plain": [
       "(3, 33.3)"
      ]
     },
     "execution_count": 37,
     "metadata": {},
     "output_type": "execute_result"
    }
   ],
   "source": [
    "d.popitem()"
   ]
  },
  {
   "cell_type": "code",
   "execution_count": 39,
   "id": "37796f47",
   "metadata": {},
   "outputs": [],
   "source": [
    "d={'emp1':{'name':'jaimini','age':27,'salary':30000},'emp2':{'name':'yogesh','age':23,'salary':500000}}"
   ]
  },
  {
   "cell_type": "code",
   "execution_count": 41,
   "id": "6ce01230",
   "metadata": {},
   "outputs": [
    {
     "data": {
      "text/plain": [
       "{'emp1': {'name': 'jaimini', 'age': 27, 'salary': 30000},\n",
       " 'emp2': {'name': 'yogesh', 'age': 23, 'salary': 500000}}"
      ]
     },
     "execution_count": 41,
     "metadata": {},
     "output_type": "execute_result"
    }
   ],
   "source": [
    "d"
   ]
  },
  {
   "cell_type": "code",
   "execution_count": 43,
   "id": "01d7c2dc",
   "metadata": {},
   "outputs": [
    {
     "data": {
      "text/plain": [
       "dict_keys(['emp1', 'emp2'])"
      ]
     },
     "execution_count": 43,
     "metadata": {},
     "output_type": "execute_result"
    }
   ],
   "source": [
    "d.keys()"
   ]
  },
  {
   "cell_type": "code",
   "execution_count": 44,
   "id": "e4527161",
   "metadata": {},
   "outputs": [
    {
     "data": {
      "text/plain": [
       "dict_values([{'name': 'jaimini', 'age': 27, 'salary': 30000}, {'name': 'yogesh', 'age': 23, 'salary': 500000}])"
      ]
     },
     "execution_count": 44,
     "metadata": {},
     "output_type": "execute_result"
    }
   ],
   "source": [
    "d.values()"
   ]
  },
  {
   "cell_type": "code",
   "execution_count": 45,
   "id": "45349a70",
   "metadata": {},
   "outputs": [],
   "source": [
    "d1={'':20}"
   ]
  },
  {
   "cell_type": "code",
   "execution_count": 47,
   "id": "250ffd01",
   "metadata": {},
   "outputs": [
    {
     "ename": "KeyError",
     "evalue": "20",
     "output_type": "error",
     "traceback": [
      "\u001b[1;31m---------------------------------------------------------------------------\u001b[0m",
      "\u001b[1;31mKeyError\u001b[0m                                  Traceback (most recent call last)",
      "Cell \u001b[1;32mIn [47], line 1\u001b[0m\n\u001b[1;32m----> 1\u001b[0m \u001b[43md1\u001b[49m\u001b[38;5;241;43m.\u001b[39;49m\u001b[43mpop\u001b[49m\u001b[43m(\u001b[49m\u001b[38;5;241;43m20\u001b[39;49m\u001b[43m)\u001b[49m\n",
      "\u001b[1;31mKeyError\u001b[0m: 20"
     ]
    }
   ],
   "source": [
    "d1.pop(20)"
   ]
  },
  {
   "cell_type": "code",
   "execution_count": 50,
   "id": "32865d16",
   "metadata": {},
   "outputs": [
    {
     "data": {
      "text/plain": [
       "{'emp1': {'name': 'jaimini', 'age': 27, 'salary': 30000},\n",
       " 'emp2': {'name': 'yogesh', 'age': 23, 'salary': 500000}}"
      ]
     },
     "execution_count": 50,
     "metadata": {},
     "output_type": "execute_result"
    }
   ],
   "source": [
    "d"
   ]
  },
  {
   "cell_type": "code",
   "execution_count": 52,
   "id": "61d9c29a",
   "metadata": {},
   "outputs": [
    {
     "data": {
      "text/plain": [
       "'jaimini'"
      ]
     },
     "execution_count": 52,
     "metadata": {},
     "output_type": "execute_result"
    }
   ],
   "source": [
    "d['emp1']['name']"
   ]
  },
  {
   "cell_type": "code",
   "execution_count": 53,
   "id": "6c14297b",
   "metadata": {},
   "outputs": [],
   "source": [
    "d['emp1']['salary']=100000"
   ]
  },
  {
   "cell_type": "code",
   "execution_count": 54,
   "id": "ce2fd6a3",
   "metadata": {},
   "outputs": [
    {
     "data": {
      "text/plain": [
       "{'emp1': {'name': 'jaimini', 'age': 27, 'salary': 100000},\n",
       " 'emp2': {'name': 'yogesh', 'age': 23, 'salary': 500000}}"
      ]
     },
     "execution_count": 54,
     "metadata": {},
     "output_type": "execute_result"
    }
   ],
   "source": [
    "d"
   ]
  },
  {
   "cell_type": "code",
   "execution_count": 61,
   "id": "f9423c02",
   "metadata": {},
   "outputs": [],
   "source": [
    "d1=d.fromkeys([1,2,3,4,5],[2,2,100,200,55])"
   ]
  },
  {
   "cell_type": "code",
   "execution_count": 56,
   "id": "9dc77644",
   "metadata": {},
   "outputs": [
    {
     "data": {
      "text/plain": [
       "{'emp1': {'name': 'jaimini', 'age': 27, 'salary': 100000},\n",
       " 'emp2': {'name': 'yogesh', 'age': 23, 'salary': 500000}}"
      ]
     },
     "execution_count": 56,
     "metadata": {},
     "output_type": "execute_result"
    }
   ],
   "source": [
    "d"
   ]
  },
  {
   "cell_type": "code",
   "execution_count": 62,
   "id": "587d82b8",
   "metadata": {},
   "outputs": [],
   "source": [
    "d.update(d1)"
   ]
  },
  {
   "cell_type": "code",
   "execution_count": 65,
   "id": "4d99dfc7",
   "metadata": {},
   "outputs": [],
   "source": [
    "d.update()"
   ]
  },
  {
   "cell_type": "code",
   "execution_count": 67,
   "id": "8e8101da",
   "metadata": {},
   "outputs": [
    {
     "data": {
      "text/plain": [
       "{'emp1': {'name': 'jaimini', 'age': 27, 'salary': 100000},\n",
       " 'emp2': {'name': 'yogesh', 'age': 23, 'salary': 500000},\n",
       " 1: [2, 2, 100, 200, 55],\n",
       " 2: [2, 2, 100, 200, 55],\n",
       " 3: [2, 2, 100, 200, 55],\n",
       " 4: [2, 2, 100, 200, 55],\n",
       " 5: [2, 2, 100, 200, 55]}"
      ]
     },
     "execution_count": 67,
     "metadata": {},
     "output_type": "execute_result"
    }
   ],
   "source": [
    "d"
   ]
  },
  {
   "cell_type": "code",
   "execution_count": 83,
   "id": "a243b88b",
   "metadata": {},
   "outputs": [],
   "source": [
    "d2=d.copy()"
   ]
  },
  {
   "cell_type": "code",
   "execution_count": 85,
   "id": "a69a6b07",
   "metadata": {},
   "outputs": [
    {
     "data": {
      "text/plain": [
       "{'emp1': {'name': 'jaimini', 'age': 27, 'salary': 100000},\n",
       " 'emp2': {'name': 'yogesh', 'age': 50, 'salary': 500000},\n",
       " 1: [2, 2, 100, 200, 55],\n",
       " 2: [2, 2, 100, 200, 55],\n",
       " 3: [2, 2, 100, 200, 55],\n",
       " 4: [2, 2, 100, 200, 55],\n",
       " 5: [2, 2, 100, 200, 55]}"
      ]
     },
     "execution_count": 85,
     "metadata": {},
     "output_type": "execute_result"
    }
   ],
   "source": [
    "d"
   ]
  },
  {
   "cell_type": "code",
   "execution_count": 84,
   "id": "3abf24ab",
   "metadata": {},
   "outputs": [
    {
     "data": {
      "text/plain": [
       "{'emp1': {'name': 'jaimini', 'age': 27, 'salary': 100000},\n",
       " 'emp2': {'name': 'yogesh', 'age': 50, 'salary': 500000},\n",
       " 1: [2, 2, 100, 200, 55],\n",
       " 2: [2, 2, 100, 200, 55],\n",
       " 3: [2, 2, 100, 200, 55],\n",
       " 4: [2, 2, 100, 200, 55],\n",
       " 5: [2, 2, 100, 200, 55]}"
      ]
     },
     "execution_count": 84,
     "metadata": {},
     "output_type": "execute_result"
    }
   ],
   "source": [
    "d2"
   ]
  },
  {
   "cell_type": "code",
   "execution_count": 86,
   "id": "10afb5fa",
   "metadata": {},
   "outputs": [],
   "source": [
    "d2['emp2']['age']=51"
   ]
  },
  {
   "cell_type": "code",
   "execution_count": 87,
   "id": "80066b29",
   "metadata": {},
   "outputs": [
    {
     "data": {
      "text/plain": [
       "{'emp1': {'name': 'jaimini', 'age': 27, 'salary': 100000},\n",
       " 'emp2': {'name': 'yogesh', 'age': 51, 'salary': 500000},\n",
       " 1: [2, 2, 100, 200, 55],\n",
       " 2: [2, 2, 100, 200, 55],\n",
       " 3: [2, 2, 100, 200, 55],\n",
       " 4: [2, 2, 100, 200, 55],\n",
       " 5: [2, 2, 100, 200, 55]}"
      ]
     },
     "execution_count": 87,
     "metadata": {},
     "output_type": "execute_result"
    }
   ],
   "source": [
    "d2"
   ]
  },
  {
   "cell_type": "code",
   "execution_count": 88,
   "id": "f7c0c91f",
   "metadata": {
    "scrolled": true
   },
   "outputs": [
    {
     "data": {
      "text/plain": [
       "{'emp1': {'name': 'jaimini', 'age': 27, 'salary': 100000},\n",
       " 'emp2': {'name': 'yogesh', 'age': 51, 'salary': 500000},\n",
       " 1: [2, 2, 100, 200, 55],\n",
       " 2: [2, 2, 100, 200, 55],\n",
       " 3: [2, 2, 100, 200, 55],\n",
       " 4: [2, 2, 100, 200, 55],\n",
       " 5: [2, 2, 100, 200, 55]}"
      ]
     },
     "execution_count": 88,
     "metadata": {},
     "output_type": "execute_result"
    }
   ],
   "source": [
    "d"
   ]
  },
  {
   "cell_type": "code",
   "execution_count": 89,
   "id": "4e7ff438",
   "metadata": {},
   "outputs": [
    {
     "data": {
      "text/plain": [
       "2552939157760"
      ]
     },
     "execution_count": 89,
     "metadata": {},
     "output_type": "execute_result"
    }
   ],
   "source": [
    "id(d)"
   ]
  },
  {
   "cell_type": "code",
   "execution_count": 90,
   "id": "4b97d38d",
   "metadata": {},
   "outputs": [
    {
     "data": {
      "text/plain": [
       "2552938955648"
      ]
     },
     "execution_count": 90,
     "metadata": {},
     "output_type": "execute_result"
    }
   ],
   "source": [
    "id(d2)"
   ]
  },
  {
   "cell_type": "code",
   "execution_count": null,
   "id": "8def6eda",
   "metadata": {},
   "outputs": [],
   "source": [
    "#note:-The dict. copy() method returns a shallow copy of the dictionary. The dictionary can also be copied using the = operator, which points to the same object as the original. So if any change is made in the copied dictionary will also reflect in the original dictionary."
   ]
  }
 ],
 "metadata": {
  "kernelspec": {
   "display_name": "Python 3 (ipykernel)",
   "language": "python",
   "name": "python3"
  },
  "language_info": {
   "codemirror_mode": {
    "name": "ipython",
    "version": 3
   },
   "file_extension": ".py",
   "mimetype": "text/x-python",
   "name": "python",
   "nbconvert_exporter": "python",
   "pygments_lexer": "ipython3",
   "version": "3.10.5"
  }
 },
 "nbformat": 4,
 "nbformat_minor": 5
}
