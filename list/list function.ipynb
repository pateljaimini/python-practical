{
 "cells": [
  {
   "cell_type": "code",
   "execution_count": 1,
   "id": "b5a2da1d",
   "metadata": {},
   "outputs": [],
   "source": [
    "#list:- mutable"
   ]
  },
  {
   "cell_type": "code",
   "execution_count": 3,
   "id": "6ff5e8de",
   "metadata": {},
   "outputs": [
    {
     "name": "stdout",
     "output_type": "stream",
     "text": [
      "['__add__', '__class__', '__class_getitem__', '__contains__', '__delattr__', '__delitem__', '__dir__', '__doc__', '__eq__', '__format__', '__ge__', '__getattribute__', '__getitem__', '__gt__', '__hash__', '__iadd__', '__imul__', '__init__', '__init_subclass__', '__iter__', '__le__', '__len__', '__lt__', '__mul__', '__ne__', '__new__', '__reduce__', '__reduce_ex__', '__repr__', '__reversed__', '__rmul__', '__setattr__', '__setitem__', '__sizeof__', '__str__', '__subclasshook__', 'append', 'clear', 'copy', 'count', 'extend', 'index', 'insert', 'pop', 'remove', 'reverse', 'sort']\n"
     ]
    }
   ],
   "source": [
    "print(dir(list))"
   ]
  },
  {
   "cell_type": "code",
   "execution_count": 4,
   "id": "8354ca3c",
   "metadata": {},
   "outputs": [],
   "source": [
    "l=[1,2,3,'abc',55,10]"
   ]
  },
  {
   "cell_type": "code",
   "execution_count": 7,
   "id": "c236ddee",
   "metadata": {},
   "outputs": [],
   "source": [
    "l.append(100)"
   ]
  },
  {
   "cell_type": "code",
   "execution_count": 9,
   "id": "c2f0c2cd",
   "metadata": {},
   "outputs": [
    {
     "data": {
      "text/plain": [
       "[1, 2, 3, 'abc', 55, 10, 100, 100]"
      ]
     },
     "execution_count": 9,
     "metadata": {},
     "output_type": "execute_result"
    }
   ],
   "source": [
    "l"
   ]
  },
  {
   "cell_type": "code",
   "execution_count": 15,
   "id": "ac78039a",
   "metadata": {},
   "outputs": [],
   "source": [
    "(l.append([1,2,3]))"
   ]
  },
  {
   "cell_type": "code",
   "execution_count": 17,
   "id": "3ee84940",
   "metadata": {},
   "outputs": [
    {
     "data": {
      "text/plain": [
       "[1, 2, 3, 'abc', 55, 10, 100, 100, '2', '0', [1, 2, 3], [1, 2, 3], [1, 2, 3]]"
      ]
     },
     "execution_count": 17,
     "metadata": {},
     "output_type": "execute_result"
    }
   ],
   "source": [
    "l"
   ]
  },
  {
   "cell_type": "code",
   "execution_count": 19,
   "id": "db2a1a5b",
   "metadata": {},
   "outputs": [],
   "source": [
    "l.extend('python')"
   ]
  },
  {
   "cell_type": "code",
   "execution_count": 21,
   "id": "2c8fc86f",
   "metadata": {},
   "outputs": [
    {
     "data": {
      "text/plain": [
       "[1,\n",
       " 2,\n",
       " 3,\n",
       " 'abc',\n",
       " 55,\n",
       " 10,\n",
       " 100,\n",
       " 100,\n",
       " '2',\n",
       " '0',\n",
       " [1, 2, 3],\n",
       " [1, 2, 3],\n",
       " [1, 2, 3],\n",
       " 'p',\n",
       " 'y',\n",
       " 't',\n",
       " 'h',\n",
       " 'o',\n",
       " 'n']"
      ]
     },
     "execution_count": 21,
     "metadata": {},
     "output_type": "execute_result"
    }
   ],
   "source": [
    "l"
   ]
  },
  {
   "cell_type": "code",
   "execution_count": 30,
   "id": "1b992363",
   "metadata": {},
   "outputs": [],
   "source": [
    "l.extend((60,40))"
   ]
  },
  {
   "cell_type": "code",
   "execution_count": 32,
   "id": "2b4ac280",
   "metadata": {},
   "outputs": [
    {
     "data": {
      "text/plain": [
       "[1,\n",
       " 2,\n",
       " 3,\n",
       " 'abc',\n",
       " 55,\n",
       " 10,\n",
       " 100,\n",
       " 100,\n",
       " '2',\n",
       " '0',\n",
       " [1, 2, 3],\n",
       " [1, 2, 3],\n",
       " [1, 2, 3],\n",
       " 'p',\n",
       " 'y',\n",
       " 't',\n",
       " 'h',\n",
       " 'o',\n",
       " 'n',\n",
       " 60,\n",
       " 60,\n",
       " '6',\n",
       " '0',\n",
       " 60,\n",
       " 60,\n",
       " 40]"
      ]
     },
     "execution_count": 32,
     "metadata": {},
     "output_type": "execute_result"
    }
   ],
   "source": [
    "l"
   ]
  },
  {
   "cell_type": "code",
   "execution_count": 34,
   "id": "ca865af9",
   "metadata": {},
   "outputs": [],
   "source": [
    "l.insert(0,100)"
   ]
  },
  {
   "cell_type": "code",
   "execution_count": 36,
   "id": "28a48b81",
   "metadata": {},
   "outputs": [
    {
     "data": {
      "text/plain": [
       "[100,\n",
       " 100,\n",
       " 1,\n",
       " 2,\n",
       " 3,\n",
       " 'abc',\n",
       " 55,\n",
       " 10,\n",
       " 100,\n",
       " 100,\n",
       " '2',\n",
       " '0',\n",
       " [1, 2, 3],\n",
       " [1, 2, 3],\n",
       " [1, 2, 3],\n",
       " 'p',\n",
       " 'y',\n",
       " 't',\n",
       " 'h',\n",
       " 'o',\n",
       " 'n',\n",
       " 60,\n",
       " 60,\n",
       " '6',\n",
       " '0',\n",
       " 60,\n",
       " 60,\n",
       " 40]"
      ]
     },
     "execution_count": 36,
     "metadata": {},
     "output_type": "execute_result"
    }
   ],
   "source": [
    "l"
   ]
  },
  {
   "cell_type": "code",
   "execution_count": 38,
   "id": "0951b748",
   "metadata": {},
   "outputs": [],
   "source": [
    "l.insert(3,500)"
   ]
  },
  {
   "cell_type": "code",
   "execution_count": 40,
   "id": "b7d98668",
   "metadata": {},
   "outputs": [
    {
     "data": {
      "text/plain": [
       "[100,\n",
       " 100,\n",
       " 1,\n",
       " 500,\n",
       " 500,\n",
       " 2,\n",
       " 3,\n",
       " 'abc',\n",
       " 55,\n",
       " 10,\n",
       " 100,\n",
       " 100,\n",
       " '2',\n",
       " '0',\n",
       " [1, 2, 3],\n",
       " [1, 2, 3],\n",
       " [1, 2, 3],\n",
       " 'p',\n",
       " 'y',\n",
       " 't',\n",
       " 'h',\n",
       " 'o',\n",
       " 'n',\n",
       " 60,\n",
       " 60,\n",
       " '6',\n",
       " '0',\n",
       " 60,\n",
       " 60,\n",
       " 40]"
      ]
     },
     "execution_count": 40,
     "metadata": {},
     "output_type": "execute_result"
    }
   ],
   "source": [
    "l"
   ]
  },
  {
   "cell_type": "code",
   "execution_count": 42,
   "id": "10e35bcd",
   "metadata": {},
   "outputs": [
    {
     "data": {
      "text/plain": [
       "60"
      ]
     },
     "execution_count": 42,
     "metadata": {},
     "output_type": "execute_result"
    }
   ],
   "source": [
    "l.pop()"
   ]
  },
  {
   "cell_type": "code",
   "execution_count": 44,
   "id": "7bf6e835",
   "metadata": {},
   "outputs": [
    {
     "data": {
      "text/plain": [
       "[100,\n",
       " 100,\n",
       " 1,\n",
       " 500,\n",
       " 500,\n",
       " 2,\n",
       " 3,\n",
       " 'abc',\n",
       " 55,\n",
       " 10,\n",
       " 100,\n",
       " 100,\n",
       " '2',\n",
       " '0',\n",
       " [1, 2, 3],\n",
       " [1, 2, 3],\n",
       " [1, 2, 3],\n",
       " 'p',\n",
       " 'y',\n",
       " 't',\n",
       " 'h',\n",
       " 'o',\n",
       " 'n',\n",
       " 60,\n",
       " 60,\n",
       " '6',\n",
       " '0',\n",
       " 60]"
      ]
     },
     "execution_count": 44,
     "metadata": {},
     "output_type": "execute_result"
    }
   ],
   "source": [
    "l"
   ]
  },
  {
   "cell_type": "code",
   "execution_count": 46,
   "id": "4a3fa5da",
   "metadata": {},
   "outputs": [
    {
     "data": {
      "text/plain": [
       "500"
      ]
     },
     "execution_count": 46,
     "metadata": {},
     "output_type": "execute_result"
    }
   ],
   "source": [
    "l.pop(3)"
   ]
  },
  {
   "cell_type": "code",
   "execution_count": 48,
   "id": "177ea49d",
   "metadata": {},
   "outputs": [
    {
     "data": {
      "text/plain": [
       "[100,\n",
       " 100,\n",
       " 1,\n",
       " 2,\n",
       " 3,\n",
       " 'abc',\n",
       " 55,\n",
       " 10,\n",
       " 100,\n",
       " 100,\n",
       " '2',\n",
       " '0',\n",
       " [1, 2, 3],\n",
       " [1, 2, 3],\n",
       " [1, 2, 3],\n",
       " 'p',\n",
       " 'y',\n",
       " 't',\n",
       " 'h',\n",
       " 'o',\n",
       " 'n',\n",
       " 60,\n",
       " 60,\n",
       " '6',\n",
       " '0',\n",
       " 60]"
      ]
     },
     "execution_count": 48,
     "metadata": {},
     "output_type": "execute_result"
    }
   ],
   "source": [
    "l"
   ]
  },
  {
   "cell_type": "code",
   "execution_count": 51,
   "id": "ff61fc33",
   "metadata": {},
   "outputs": [],
   "source": [
    "l.remove([1,2,3])"
   ]
  },
  {
   "cell_type": "code",
   "execution_count": 53,
   "id": "b3863909",
   "metadata": {},
   "outputs": [
    {
     "data": {
      "text/plain": [
       "[100,\n",
       " 100,\n",
       " 1,\n",
       " 2,\n",
       " 3,\n",
       " 'abc',\n",
       " 55,\n",
       " 10,\n",
       " 100,\n",
       " 100,\n",
       " '2',\n",
       " '0',\n",
       " [1, 2, 3],\n",
       " 'p',\n",
       " 'y',\n",
       " 't',\n",
       " 'h',\n",
       " 'o',\n",
       " 'n',\n",
       " 60,\n",
       " 60,\n",
       " '6',\n",
       " '0',\n",
       " 60]"
      ]
     },
     "execution_count": 53,
     "metadata": {},
     "output_type": "execute_result"
    }
   ],
   "source": [
    "l"
   ]
  },
  {
   "cell_type": "code",
   "execution_count": 57,
   "id": "b2e4e255",
   "metadata": {},
   "outputs": [],
   "source": [
    "l=[1,2,3973,47,786]"
   ]
  },
  {
   "cell_type": "code",
   "execution_count": 58,
   "id": "69c64811",
   "metadata": {},
   "outputs": [],
   "source": [
    "l.sort()"
   ]
  },
  {
   "cell_type": "code",
   "execution_count": 60,
   "id": "1fb4ec86",
   "metadata": {},
   "outputs": [
    {
     "data": {
      "text/plain": [
       "[1, 2, 47, 786, 3973]"
      ]
     },
     "execution_count": 60,
     "metadata": {},
     "output_type": "execute_result"
    }
   ],
   "source": [
    "l"
   ]
  },
  {
   "cell_type": "code",
   "execution_count": 61,
   "id": "7fdcc899",
   "metadata": {},
   "outputs": [],
   "source": [
    "l.reverse()"
   ]
  },
  {
   "cell_type": "code",
   "execution_count": 63,
   "id": "8fa34bf4",
   "metadata": {},
   "outputs": [
    {
     "data": {
      "text/plain": [
       "[3973, 786, 47, 2, 1]"
      ]
     },
     "execution_count": 63,
     "metadata": {},
     "output_type": "execute_result"
    }
   ],
   "source": [
    "l"
   ]
  },
  {
   "cell_type": "code",
   "execution_count": 64,
   "id": "9ff6185a",
   "metadata": {},
   "outputs": [],
   "source": [
    "l=[5,66,925,2,52,3,7,6]"
   ]
  },
  {
   "cell_type": "code",
   "execution_count": 66,
   "id": "d02532fe",
   "metadata": {},
   "outputs": [],
   "source": [
    "l.sort(reverse=True)"
   ]
  },
  {
   "cell_type": "code",
   "execution_count": 68,
   "id": "81b7d02c",
   "metadata": {},
   "outputs": [
    {
     "data": {
      "text/plain": [
       "[925, 66, 52, 7, 6, 5, 3, 2]"
      ]
     },
     "execution_count": 68,
     "metadata": {},
     "output_type": "execute_result"
    }
   ],
   "source": [
    "l"
   ]
  },
  {
   "cell_type": "code",
   "execution_count": 69,
   "id": "efdd4690",
   "metadata": {},
   "outputs": [],
   "source": [
    "l.extend('!@#$%$%^^&*&^%%')"
   ]
  },
  {
   "cell_type": "code",
   "execution_count": 71,
   "id": "8ea7c576",
   "metadata": {},
   "outputs": [
    {
     "data": {
      "text/plain": [
       "[925,\n",
       " 66,\n",
       " 52,\n",
       " 7,\n",
       " 6,\n",
       " 5,\n",
       " 3,\n",
       " 2,\n",
       " '!',\n",
       " '@',\n",
       " '#',\n",
       " '$',\n",
       " '%',\n",
       " '$',\n",
       " '%',\n",
       " '^',\n",
       " '^',\n",
       " '&',\n",
       " '*',\n",
       " '&',\n",
       " '^',\n",
       " '%',\n",
       " '%']"
      ]
     },
     "execution_count": 71,
     "metadata": {},
     "output_type": "execute_result"
    }
   ],
   "source": [
    "l"
   ]
  },
  {
   "cell_type": "code",
   "execution_count": 74,
   "id": "8a15f072",
   "metadata": {},
   "outputs": [
    {
     "ename": "TypeError",
     "evalue": "'<' not supported between instances of 'str' and 'int'",
     "output_type": "error",
     "traceback": [
      "\u001b[1;31m---------------------------------------------------------------------------\u001b[0m",
      "\u001b[1;31mTypeError\u001b[0m                                 Traceback (most recent call last)",
      "Cell \u001b[1;32mIn [74], line 1\u001b[0m\n\u001b[1;32m----> 1\u001b[0m n\u001b[38;5;241m=\u001b[39m\u001b[43ml\u001b[49m\u001b[38;5;241;43m.\u001b[39;49m\u001b[43msort\u001b[49m\u001b[43m(\u001b[49m\u001b[43m)\u001b[49m\n",
      "\u001b[1;31mTypeError\u001b[0m: '<' not supported between instances of 'str' and 'int'"
     ]
    }
   ],
   "source": [
    "n=l.sort()"
   ]
  },
  {
   "cell_type": "code",
   "execution_count": 76,
   "id": "91e82a9b",
   "metadata": {},
   "outputs": [],
   "source": [
    "l.clear()"
   ]
  },
  {
   "cell_type": "code",
   "execution_count": 78,
   "id": "c66e5805",
   "metadata": {},
   "outputs": [
    {
     "data": {
      "text/plain": [
       "[]"
      ]
     },
     "execution_count": 78,
     "metadata": {},
     "output_type": "execute_result"
    }
   ],
   "source": [
    "l"
   ]
  },
  {
   "cell_type": "code",
   "execution_count": 79,
   "id": "a66b9d00",
   "metadata": {},
   "outputs": [],
   "source": [
    "l=[11,3,58,8,1,True]"
   ]
  },
  {
   "cell_type": "code",
   "execution_count": 80,
   "id": "6d02a45f",
   "metadata": {},
   "outputs": [
    {
     "data": {
      "text/plain": [
       "2"
      ]
     },
     "execution_count": 80,
     "metadata": {},
     "output_type": "execute_result"
    }
   ],
   "source": [
    "l.count(1)"
   ]
  },
  {
   "cell_type": "code",
   "execution_count": 81,
   "id": "690d4d82",
   "metadata": {},
   "outputs": [
    {
     "data": {
      "text/plain": [
       "2"
      ]
     },
     "execution_count": 81,
     "metadata": {},
     "output_type": "execute_result"
    }
   ],
   "source": [
    "l.index(58)"
   ]
  },
  {
   "cell_type": "code",
   "execution_count": 82,
   "id": "b50e6135",
   "metadata": {},
   "outputs": [],
   "source": [
    "#copy:-\n",
    "#1.shallow\n",
    "#2.deep"
   ]
  },
  {
   "cell_type": "code",
   "execution_count": 83,
   "id": "5cf76559",
   "metadata": {},
   "outputs": [],
   "source": [
    "l=[1,6,56,3,6]"
   ]
  },
  {
   "cell_type": "code",
   "execution_count": 84,
   "id": "63d1e281",
   "metadata": {},
   "outputs": [],
   "source": [
    "l1=l #shallow copy  and id of l and l1 ia same"
   ]
  },
  {
   "cell_type": "code",
   "execution_count": 86,
   "id": "efcfdc65",
   "metadata": {},
   "outputs": [
    {
     "data": {
      "text/plain": [
       "[1, 6, 56, 3, 6]"
      ]
     },
     "execution_count": 86,
     "metadata": {},
     "output_type": "execute_result"
    }
   ],
   "source": [
    "l1"
   ]
  },
  {
   "cell_type": "code",
   "execution_count": 88,
   "id": "966cebaf",
   "metadata": {},
   "outputs": [
    {
     "data": {
      "text/plain": [
       "3"
      ]
     },
     "execution_count": 88,
     "metadata": {},
     "output_type": "execute_result"
    }
   ],
   "source": [
    "l1.pop()"
   ]
  },
  {
   "cell_type": "code",
   "execution_count": 89,
   "id": "4c89cf2c",
   "metadata": {},
   "outputs": [
    {
     "data": {
      "text/plain": [
       "[1, 6, 56]"
      ]
     },
     "execution_count": 89,
     "metadata": {},
     "output_type": "execute_result"
    }
   ],
   "source": [
    "l              # original ane eni copy banne ma change thay"
   ]
  },
  {
   "cell_type": "code",
   "execution_count": 90,
   "id": "558f6c08",
   "metadata": {},
   "outputs": [],
   "source": [
    "# deep copy"
   ]
  },
  {
   "cell_type": "code",
   "execution_count": 91,
   "id": "475f2a35",
   "metadata": {},
   "outputs": [],
   "source": [
    "import copy"
   ]
  },
  {
   "cell_type": "code",
   "execution_count": 92,
   "id": "9147811b",
   "metadata": {},
   "outputs": [],
   "source": [
    "l=[1255,25,5,6,58]"
   ]
  },
  {
   "cell_type": "code",
   "execution_count": 93,
   "id": "3d9d9b4a",
   "metadata": {},
   "outputs": [],
   "source": [
    "l1=l.copy()    # original list me change nhi hoga"
   ]
  },
  {
   "cell_type": "code",
   "execution_count": 95,
   "id": "b2f5311b",
   "metadata": {},
   "outputs": [
    {
     "data": {
      "text/plain": [
       "[1255, 25, 5, 6, 58]"
      ]
     },
     "execution_count": 95,
     "metadata": {},
     "output_type": "execute_result"
    }
   ],
   "source": [
    "l1"
   ]
  },
  {
   "cell_type": "code",
   "execution_count": 96,
   "id": "123f9585",
   "metadata": {},
   "outputs": [
    {
     "data": {
      "text/plain": [
       "58"
      ]
     },
     "execution_count": 96,
     "metadata": {},
     "output_type": "execute_result"
    }
   ],
   "source": [
    "l1.pop()"
   ]
  },
  {
   "cell_type": "code",
   "execution_count": 97,
   "id": "7d271daa",
   "metadata": {},
   "outputs": [
    {
     "data": {
      "text/plain": [
       "[1255, 25, 5, 6]"
      ]
     },
     "execution_count": 97,
     "metadata": {},
     "output_type": "execute_result"
    }
   ],
   "source": [
    "l1"
   ]
  },
  {
   "cell_type": "code",
   "execution_count": 99,
   "id": "a8134ca5",
   "metadata": {},
   "outputs": [
    {
     "data": {
      "text/plain": [
       "[1255, 25, 5, 6, 58]"
      ]
     },
     "execution_count": 99,
     "metadata": {},
     "output_type": "execute_result"
    }
   ],
   "source": [
    "l"
   ]
  },
  {
   "cell_type": "code",
   "execution_count": 100,
   "id": "b4bb8f5d",
   "metadata": {},
   "outputs": [
    {
     "data": {
      "text/plain": [
       "1455983284352"
      ]
     },
     "execution_count": 100,
     "metadata": {},
     "output_type": "execute_result"
    }
   ],
   "source": [
    "id(l)"
   ]
  },
  {
   "cell_type": "code",
   "execution_count": 101,
   "id": "776f385a",
   "metadata": {},
   "outputs": [
    {
     "data": {
      "text/plain": [
       "1455983036096"
      ]
     },
     "execution_count": 101,
     "metadata": {},
     "output_type": "execute_result"
    }
   ],
   "source": [
    "id(l1)           # different id"
   ]
  }
 ],
 "metadata": {
  "kernelspec": {
   "display_name": "Python 3 (ipykernel)",
   "language": "python",
   "name": "python3"
  },
  "language_info": {
   "codemirror_mode": {
    "name": "ipython",
    "version": 3
   },
   "file_extension": ".py",
   "mimetype": "text/x-python",
   "name": "python",
   "nbconvert_exporter": "python",
   "pygments_lexer": "ipython3",
   "version": "3.10.5"
  }
 },
 "nbformat": 4,
 "nbformat_minor": 5
}
