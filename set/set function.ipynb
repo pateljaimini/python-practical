{
 "cells": [
  {
   "cell_type": "code",
   "execution_count": 1,
   "id": "46ba123e",
   "metadata": {},
   "outputs": [],
   "source": [
    "# set function:- mutable,unorderd,uniq"
   ]
  },
  {
   "cell_type": "code",
   "execution_count": 5,
   "id": "4878d3fe",
   "metadata": {},
   "outputs": [],
   "source": [
    "s={1,2,3,4,5,6,'abc',11.20,'xyz'}"
   ]
  },
  {
   "cell_type": "code",
   "execution_count": 6,
   "id": "b05f0fd1",
   "metadata": {},
   "outputs": [
    {
     "data": {
      "text/plain": [
       "{1, 11.2, 2, 3, 4, 5, 6, 'abc', 'xyz'}"
      ]
     },
     "execution_count": 6,
     "metadata": {},
     "output_type": "execute_result"
    }
   ],
   "source": [
    "s"
   ]
  },
  {
   "cell_type": "code",
   "execution_count": 4,
   "id": "7f2a3b97",
   "metadata": {},
   "outputs": [
    {
     "name": "stdout",
     "output_type": "stream",
     "text": [
      "['__and__', '__class__', '__class_getitem__', '__contains__', '__delattr__', '__dir__', '__doc__', '__eq__', '__format__', '__ge__', '__getattribute__', '__gt__', '__hash__', '__iand__', '__init__', '__init_subclass__', '__ior__', '__isub__', '__iter__', '__ixor__', '__le__', '__len__', '__lt__', '__ne__', '__new__', '__or__', '__rand__', '__reduce__', '__reduce_ex__', '__repr__', '__ror__', '__rsub__', '__rxor__', '__setattr__', '__sizeof__', '__str__', '__sub__', '__subclasshook__', '__xor__', 'add', 'clear', 'copy', 'difference', 'difference_update', 'discard', 'intersection', 'intersection_update', 'isdisjoint', 'issubset', 'issuperset', 'pop', 'remove', 'symmetric_difference', 'symmetric_difference_update', 'union', 'update']\n"
     ]
    }
   ],
   "source": [
    "print(dir(set))"
   ]
  },
  {
   "cell_type": "code",
   "execution_count": 7,
   "id": "3f59f627",
   "metadata": {},
   "outputs": [],
   "source": [
    "s1={1,2,3,4,5,6}\n",
    "s2={1,2,3,4}"
   ]
  },
  {
   "cell_type": "code",
   "execution_count": 9,
   "id": "d1f1df9a",
   "metadata": {},
   "outputs": [],
   "source": [
    "s.add(10) #method adds a given element to a set if the element is not present in the set in Python."
   ]
  },
  {
   "cell_type": "code",
   "execution_count": 11,
   "id": "36a69a9a",
   "metadata": {},
   "outputs": [
    {
     "data": {
      "text/plain": [
       "{1, 10, 11.2, 2, 3, 4, 5, 6, 'abc', 'xyz'}"
      ]
     },
     "execution_count": 11,
     "metadata": {},
     "output_type": "execute_result"
    }
   ],
   "source": [
    "s"
   ]
  },
  {
   "cell_type": "code",
   "execution_count": 15,
   "id": "09362e57",
   "metadata": {},
   "outputs": [],
   "source": [
    "s.add(1) # every time update in original set ex 10"
   ]
  },
  {
   "cell_type": "code",
   "execution_count": 16,
   "id": "5bd9bdbe",
   "metadata": {},
   "outputs": [
    {
     "data": {
      "text/plain": [
       "{1, 10, 11.2, 2, 3, 4, 5, 6, 'abc', 'xyz'}"
      ]
     },
     "execution_count": 16,
     "metadata": {},
     "output_type": "execute_result"
    }
   ],
   "source": [
    "s"
   ]
  },
  {
   "cell_type": "code",
   "execution_count": 18,
   "id": "786ce801",
   "metadata": {},
   "outputs": [],
   "source": [
    "s.add(10)"
   ]
  },
  {
   "cell_type": "code",
   "execution_count": 20,
   "id": "a65af75e",
   "metadata": {},
   "outputs": [
    {
     "data": {
      "text/plain": [
       "{1, 10, 11.2, 2, 3, 4, 5, 6, 'abc', 'xyz'}"
      ]
     },
     "execution_count": 20,
     "metadata": {},
     "output_type": "execute_result"
    }
   ],
   "source": [
    "s"
   ]
  },
  {
   "cell_type": "code",
   "execution_count": 22,
   "id": "cd0d1123",
   "metadata": {},
   "outputs": [],
   "source": [
    "s.clear() #clear is used to clear all the data from the set data structure. All elements from set will clear."
   ]
  },
  {
   "cell_type": "code",
   "execution_count": 24,
   "id": "0e17ca84",
   "metadata": {},
   "outputs": [
    {
     "data": {
      "text/plain": [
       "set()"
      ]
     },
     "execution_count": 24,
     "metadata": {},
     "output_type": "execute_result"
    }
   ],
   "source": [
    "s"
   ]
  },
  {
   "cell_type": "code",
   "execution_count": 27,
   "id": "bd6507ed",
   "metadata": {},
   "outputs": [
    {
     "data": {
      "text/plain": [
       "{1, 2, 3, 4, 5, 6}"
      ]
     },
     "execution_count": 27,
     "metadata": {},
     "output_type": "execute_result"
    }
   ],
   "source": [
    "s1.copy() #copies the set. Syntax. set.copy(). Parameter Values. No parameters. ❮ Set Methods."
   ]
  },
  {
   "cell_type": "code",
   "execution_count": 28,
   "id": "cfcf0a75",
   "metadata": {},
   "outputs": [
    {
     "name": "stdout",
     "output_type": "stream",
     "text": [
      "{'banana', 'cherry'}\n"
     ]
    }
   ],
   "source": [
    "x = {\"apple\", \"banana\", \"cherry\"}        #returns a set that contains the difference between two sets. Meaning: The returned set contains items that exist only in the first ...\n",
    "y = {\"google\", \"microsoft\", \"apple\"}\n",
    "\n",
    "z = x.difference(y) \n",
    "\n",
    "print(z)"
   ]
  },
  {
   "cell_type": "code",
   "execution_count": 30,
   "id": "5c643eb8",
   "metadata": {},
   "outputs": [
    {
     "name": "stdout",
     "output_type": "stream",
     "text": [
      "{'microsoft', 'google'}\n"
     ]
    }
   ],
   "source": [
    "x = {\"apple\", \"banana\", \"cherry\"}\n",
    "y = {\"google\", \"microsoft\", \"apple\"}\n",
    "\n",
    "z = y.difference(x) \n",
    "\n",
    "print(z)"
   ]
  },
  {
   "cell_type": "code",
   "execution_count": 81,
   "id": "caa9c96c",
   "metadata": {},
   "outputs": [],
   "source": [
    "x = {\"apple\", \"banana\", \"cherry\"}\n",
    "y = {\"google\", \"microsoft\", \"apple\"}                    "
   ]
  },
  {
   "cell_type": "code",
   "execution_count": 82,
   "id": "080facd3",
   "metadata": {},
   "outputs": [],
   "source": [
    "y.difference_update(x) "
   ]
  },
  {
   "cell_type": "code",
   "execution_count": 83,
   "id": "86941d3f",
   "metadata": {},
   "outputs": [
    {
     "name": "stdout",
     "output_type": "stream",
     "text": [
      "{'microsoft', 'google'}\n"
     ]
    }
   ],
   "source": [
    "print(y)"
   ]
  },
  {
   "cell_type": "code",
   "execution_count": 53,
   "id": "973b7443",
   "metadata": {},
   "outputs": [],
   "source": [
    "#note:-The difference_update() method is different from the difference() method, because the difference() method returns a new set, without the unwanted items, and the difference_update() method removes the unwanted items from the original set.\n",
    "\n"
   ]
  },
  {
   "cell_type": "code",
   "execution_count": 55,
   "id": "fe50535b",
   "metadata": {},
   "outputs": [
    {
     "data": {
      "text/plain": [
       "{'banana', 'cherry'}"
      ]
     },
     "execution_count": 55,
     "metadata": {},
     "output_type": "execute_result"
    }
   ],
   "source": [
    "x # see changed in original set"
   ]
  },
  {
   "cell_type": "code",
   "execution_count": 57,
   "id": "137a702e",
   "metadata": {},
   "outputs": [],
   "source": [
    "x = {\"apple\", \"banana\", \"cherry\"}\n",
    "y = {\"google\", \"microsoft\", \"apple\"}                    "
   ]
  },
  {
   "cell_type": "code",
   "execution_count": 63,
   "id": "d575e571",
   "metadata": {},
   "outputs": [],
   "source": [
    "z=x.discard('apple') #removes the specified item from the set."
   ]
  },
  {
   "cell_type": "code",
   "execution_count": 64,
   "id": "481588ef",
   "metadata": {},
   "outputs": [
    {
     "name": "stdout",
     "output_type": "stream",
     "text": [
      "None\n"
     ]
    }
   ],
   "source": [
    "print(z)"
   ]
  },
  {
   "cell_type": "code",
   "execution_count": 66,
   "id": "e53003d9",
   "metadata": {},
   "outputs": [
    {
     "name": "stdout",
     "output_type": "stream",
     "text": [
      "{'banana', 'cherry'}\n"
     ]
    }
   ],
   "source": [
    "print(x)"
   ]
  },
  {
   "cell_type": "code",
   "execution_count": 67,
   "id": "7b213921",
   "metadata": {},
   "outputs": [],
   "source": [
    "#note:-This method is different from the remove() method, because the remove() method will raise an error if the specified item does not exist, and the discard() method will not."
   ]
  },
  {
   "cell_type": "code",
   "execution_count": 84,
   "id": "38ca0185",
   "metadata": {},
   "outputs": [],
   "source": [
    "x = {\"apple\", \"banana\", \"cherry\"}\n",
    "y = {\"google\", \"microsoft\", \"apple\"}          "
   ]
  },
  {
   "cell_type": "code",
   "execution_count": 69,
   "id": "a87de91e",
   "metadata": {},
   "outputs": [
    {
     "data": {
      "text/plain": [
       "{'apple'}"
      ]
     },
     "execution_count": 69,
     "metadata": {},
     "output_type": "execute_result"
    }
   ],
   "source": [
    "x.intersection(y) # returns a set that contains the similarity between two or more sets."
   ]
  },
  {
   "cell_type": "code",
   "execution_count": 85,
   "id": "a7f75215",
   "metadata": {},
   "outputs": [],
   "source": [
    "y.intersection_update(x)"
   ]
  },
  {
   "cell_type": "code",
   "execution_count": 86,
   "id": "96b1fbfd",
   "metadata": {},
   "outputs": [
    {
     "name": "stdout",
     "output_type": "stream",
     "text": [
      "{'apple'}\n"
     ]
    }
   ],
   "source": [
    "print(y)"
   ]
  },
  {
   "cell_type": "code",
   "execution_count": 88,
   "id": "7e4272e4",
   "metadata": {},
   "outputs": [],
   "source": [
    "# #note:-\n",
    "# '''intersection_update() method removes the items that is not present in both sets    and\n",
    "#    difference_update()   removes the items that exist in both sets.'''\n"
   ]
  },
  {
   "cell_type": "code",
   "execution_count": 90,
   "id": "7b31503a",
   "metadata": {},
   "outputs": [],
   "source": [
    "s1={1,2,3}\n",
    "s2={4,5,6}\n",
    "s3={1,9,8}"
   ]
  },
  {
   "cell_type": "code",
   "execution_count": 92,
   "id": "d09c6694",
   "metadata": {},
   "outputs": [
    {
     "data": {
      "text/plain": [
       "True"
      ]
     },
     "execution_count": 92,
     "metadata": {},
     "output_type": "execute_result"
    }
   ],
   "source": [
    "s1.isdisjoint(s2) #function check whether the two sets are disjoint or not, if it is disjoint then it returns True otherwise it will return False. "
   ]
  },
  {
   "cell_type": "code",
   "execution_count": 94,
   "id": "e48b4d2a",
   "metadata": {},
   "outputs": [
    {
     "data": {
      "text/plain": [
       "False"
      ]
     },
     "execution_count": 94,
     "metadata": {},
     "output_type": "execute_result"
    }
   ],
   "source": [
    "s1.isdisjoint(s3)"
   ]
  },
  {
   "cell_type": "code",
   "execution_count": 96,
   "id": "3f52a198",
   "metadata": {},
   "outputs": [
    {
     "data": {
      "text/plain": [
       "{1, 2, 3}"
      ]
     },
     "execution_count": 96,
     "metadata": {},
     "output_type": "execute_result"
    }
   ],
   "source": [
    "s1"
   ]
  },
  {
   "cell_type": "code",
   "execution_count": 98,
   "id": "112e34e9",
   "metadata": {},
   "outputs": [
    {
     "data": {
      "text/plain": [
       "{4, 5, 6}"
      ]
     },
     "execution_count": 98,
     "metadata": {},
     "output_type": "execute_result"
    }
   ],
   "source": [
    "s2"
   ]
  },
  {
   "cell_type": "code",
   "execution_count": 103,
   "id": "c5ad4cb0",
   "metadata": {},
   "outputs": [],
   "source": [
    "x = {\"a\", \"b\", \"c\"}\n",
    "y = {\"f\", \"e\", \"d\", \"c\", \"b\", \"a\"}"
   ]
  },
  {
   "cell_type": "code",
   "execution_count": 101,
   "id": "bcabd104",
   "metadata": {},
   "outputs": [
    {
     "data": {
      "text/plain": [
       "True"
      ]
     },
     "execution_count": 101,
     "metadata": {},
     "output_type": "execute_result"
    }
   ],
   "source": [
    "x.issubset(y) # check kre ke x ni bdhi y ma che ke nai\n",
    " # method returns True if all items in the set exists in the specified set, otherwise it returns False."
   ]
  },
  {
   "cell_type": "code",
   "execution_count": 104,
   "id": "fd337a44",
   "metadata": {},
   "outputs": [
    {
     "data": {
      "text/plain": [
       "False"
      ]
     },
     "execution_count": 104,
     "metadata": {},
     "output_type": "execute_result"
    }
   ],
   "source": [
    "y.issubset(x)"
   ]
  },
  {
   "cell_type": "code",
   "execution_count": 106,
   "id": "a5a093fe",
   "metadata": {},
   "outputs": [
    {
     "data": {
      "text/plain": [
       "False"
      ]
     },
     "execution_count": 106,
     "metadata": {},
     "output_type": "execute_result"
    }
   ],
   "source": [
    "x.issuperset(y) # check kare ke y ni bdhi value x ma 6e ke nai\n",
    "#returns True if all items in the specified set exists in the original set, otherwise it returns False."
   ]
  },
  {
   "cell_type": "code",
   "execution_count": 108,
   "id": "2bc868ca",
   "metadata": {},
   "outputs": [],
   "source": [
    "x={1,2,3,4,5,6}"
   ]
  },
  {
   "cell_type": "code",
   "execution_count": 110,
   "id": "de5bcf2e",
   "metadata": {},
   "outputs": [
    {
     "data": {
      "text/plain": [
       "2"
      ]
     },
     "execution_count": 110,
     "metadata": {},
     "output_type": "execute_result"
    }
   ],
   "source": [
    "x.pop() #removes a random item from the set. This method returns the removed item."
   ]
  },
  {
   "cell_type": "code",
   "execution_count": 112,
   "id": "8bee22ee",
   "metadata": {},
   "outputs": [
    {
     "data": {
      "text/plain": [
       "{3, 4, 5, 6}"
      ]
     },
     "execution_count": 112,
     "metadata": {},
     "output_type": "execute_result"
    }
   ],
   "source": [
    "x"
   ]
  },
  {
   "cell_type": "code",
   "execution_count": 116,
   "id": "825d319d",
   "metadata": {},
   "outputs": [],
   "source": [
    "x.remove(5) #method removes the specified element from the set. "
   ]
  },
  {
   "cell_type": "code",
   "execution_count": 118,
   "id": "3ec7e9eb",
   "metadata": {},
   "outputs": [
    {
     "data": {
      "text/plain": [
       "{4, 6}"
      ]
     },
     "execution_count": 118,
     "metadata": {},
     "output_type": "execute_result"
    }
   ],
   "source": [
    "x"
   ]
  },
  {
   "cell_type": "code",
   "execution_count": 119,
   "id": "7fc9bdc5",
   "metadata": {},
   "outputs": [
    {
     "name": "stdout",
     "output_type": "stream",
     "text": [
      "{'microsoft', 'banana', 'cherry', 'google'}\n"
     ]
    }
   ],
   "source": [
    "x = {\"apple\", \"banana\", \"cherry\"}\n",
    "y = {\"google\", \"microsoft\", \"apple\"}\n",
    "\n",
    "z=x.symmetric_difference(y) # returns a set that contains all items from both set, but not the items that are present in both sets.\n",
    "\n",
    "print(z)         \n"
   ]
  },
  {
   "cell_type": "code",
   "execution_count": 124,
   "id": "84bb6d7b",
   "metadata": {},
   "outputs": [],
   "source": [
    "x = {\"apple\", \"banana\", \"cherry\"}\n",
    "y = {\"google\", \"microsoft\", \"apple\"}\n",
    "z=x.symmetric_difference_update(y)\n",
    "                                      #method updates the original set by removing items that are present in both sets, and inserting the other items."
   ]
  },
  {
   "cell_type": "code",
   "execution_count": 125,
   "id": "b2a691d2",
   "metadata": {},
   "outputs": [
    {
     "name": "stdout",
     "output_type": "stream",
     "text": [
      "None\n"
     ]
    }
   ],
   "source": [
    "print(z)"
   ]
  },
  {
   "cell_type": "code",
   "execution_count": 126,
   "id": "8172a0b0",
   "metadata": {},
   "outputs": [
    {
     "name": "stdout",
     "output_type": "stream",
     "text": [
      "{'microsoft', 'apple', 'banana', 'cherry', 'google'}\n"
     ]
    }
   ],
   "source": [
    "x = {\"apple\", \"banana\", \"cherry\"}\n",
    "y = {\"google\", \"microsoft\", \"apple\"}\n",
    "\n",
    "z=x.union(y) #returns a set that contains all items from the original set, and all items from the specified set(s).\n",
    " \n",
    "print(z)\n"
   ]
  },
  {
   "cell_type": "code",
   "execution_count": 127,
   "id": "29a89f3e",
   "metadata": {},
   "outputs": [
    {
     "name": "stdout",
     "output_type": "stream",
     "text": [
      "{'microsoft', 'apple', 'banana', 'cherry', 'google'}\n"
     ]
    }
   ],
   "source": [
    "x = {\"apple\", \"banana\", \"cherry\"}\n",
    "y = {\"google\", \"microsoft\", \"apple\"}\n",
    "\n",
    "x.update(y) #Insert the items from set y into set x: ,  updates the current set, by adding items from another set (or any other iterable). If an item is present in both sets, ...\n",
    "\n",
    "print(x)\n"
   ]
  }
 ],
 "metadata": {
  "kernelspec": {
   "display_name": "Python 3 (ipykernel)",
   "language": "python",
   "name": "python3"
  },
  "language_info": {
   "codemirror_mode": {
    "name": "ipython",
    "version": 3
   },
   "file_extension": ".py",
   "mimetype": "text/x-python",
   "name": "python",
   "nbconvert_exporter": "python",
   "pygments_lexer": "ipython3",
   "version": "3.10.5"
  }
 },
 "nbformat": 4,
 "nbformat_minor": 5
}
