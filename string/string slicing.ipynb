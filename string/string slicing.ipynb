{
 "cells": [
  {
   "cell_type": "code",
   "execution_count": 1,
   "id": "6c2149dc",
   "metadata": {},
   "outputs": [],
   "source": [
    "# string slicing:- "
   ]
  },
  {
   "cell_type": "code",
   "execution_count": 2,
   "id": "de5e9019",
   "metadata": {},
   "outputs": [],
   "source": [
    "x='hello'"
   ]
  },
  {
   "cell_type": "code",
   "execution_count": 3,
   "id": "44d0c4dd",
   "metadata": {},
   "outputs": [
    {
     "data": {
      "text/plain": [
       "'h'"
      ]
     },
     "execution_count": 3,
     "metadata": {},
     "output_type": "execute_result"
    }
   ],
   "source": [
    "x[0]"
   ]
  },
  {
   "cell_type": "code",
   "execution_count": 4,
   "id": "e3819e65",
   "metadata": {},
   "outputs": [
    {
     "data": {
      "text/plain": [
       "'l'"
      ]
     },
     "execution_count": 4,
     "metadata": {},
     "output_type": "execute_result"
    }
   ],
   "source": [
    "x[3]"
   ]
  },
  {
   "cell_type": "code",
   "execution_count": 5,
   "id": "ddb0c506",
   "metadata": {},
   "outputs": [
    {
     "data": {
      "text/plain": [
       "'o'"
      ]
     },
     "execution_count": 5,
     "metadata": {},
     "output_type": "execute_result"
    }
   ],
   "source": [
    "x[-1]"
   ]
  },
  {
   "cell_type": "code",
   "execution_count": 6,
   "id": "bc494e3c",
   "metadata": {},
   "outputs": [
    {
     "data": {
      "text/plain": [
       "'h'"
      ]
     },
     "execution_count": 6,
     "metadata": {},
     "output_type": "execute_result"
    }
   ],
   "source": [
    "x[-5]"
   ]
  },
  {
   "cell_type": "code",
   "execution_count": 7,
   "id": "f07f6f9b",
   "metadata": {},
   "outputs": [],
   "source": [
    "n='hello how are you'"
   ]
  },
  {
   "cell_type": "code",
   "execution_count": 8,
   "id": "cc92c011",
   "metadata": {},
   "outputs": [],
   "source": [
    "#n[start index:end index:step] and count one less index no"
   ]
  },
  {
   "cell_type": "code",
   "execution_count": 9,
   "id": "c0953f44",
   "metadata": {},
   "outputs": [
    {
     "data": {
      "text/plain": [
       "'hello'"
      ]
     },
     "execution_count": 9,
     "metadata": {},
     "output_type": "execute_result"
    }
   ],
   "source": [
    "n[0:5]"
   ]
  },
  {
   "cell_type": "code",
   "execution_count": 10,
   "id": "0e75774d",
   "metadata": {},
   "outputs": [
    {
     "data": {
      "text/plain": [
       "'hello ho'"
      ]
     },
     "execution_count": 10,
     "metadata": {},
     "output_type": "execute_result"
    }
   ],
   "source": [
    "n[:8]"
   ]
  },
  {
   "cell_type": "code",
   "execution_count": 11,
   "id": "a417c2a3",
   "metadata": {},
   "outputs": [
    {
     "data": {
      "text/plain": [
       "' how are you'"
      ]
     },
     "execution_count": 11,
     "metadata": {},
     "output_type": "execute_result"
    }
   ],
   "source": [
    "n[5:]"
   ]
  },
  {
   "cell_type": "code",
   "execution_count": 12,
   "id": "40cfc6b0",
   "metadata": {},
   "outputs": [
    {
     "data": {
      "text/plain": [
       "'how'"
      ]
     },
     "execution_count": 12,
     "metadata": {},
     "output_type": "execute_result"
    }
   ],
   "source": [
    "n[6:9]"
   ]
  },
  {
   "cell_type": "code",
   "execution_count": 13,
   "id": "d48ce84a",
   "metadata": {},
   "outputs": [
    {
     "data": {
      "text/plain": [
       "'you'"
      ]
     },
     "execution_count": 13,
     "metadata": {},
     "output_type": "execute_result"
    }
   ],
   "source": [
    "n[14:17]"
   ]
  },
  {
   "cell_type": "code",
   "execution_count": 14,
   "id": "1d738455",
   "metadata": {},
   "outputs": [
    {
     "data": {
      "text/plain": [
       "'yo'"
      ]
     },
     "execution_count": 14,
     "metadata": {},
     "output_type": "execute_result"
    }
   ],
   "source": [
    "n[-3:-1] #one less index count"
   ]
  },
  {
   "cell_type": "code",
   "execution_count": 15,
   "id": "cf60387a",
   "metadata": {},
   "outputs": [
    {
     "data": {
      "text/plain": [
       "'you'"
      ]
     },
     "execution_count": 15,
     "metadata": {},
     "output_type": "execute_result"
    }
   ],
   "source": [
    "n[-3:]"
   ]
  },
  {
   "cell_type": "code",
   "execution_count": 16,
   "id": "af4bd828",
   "metadata": {},
   "outputs": [
    {
     "data": {
      "text/plain": [
       "'u'"
      ]
     },
     "execution_count": 16,
     "metadata": {},
     "output_type": "execute_result"
    }
   ],
   "source": [
    "n[-1:]"
   ]
  },
  {
   "cell_type": "code",
   "execution_count": 17,
   "id": "1feae434",
   "metadata": {},
   "outputs": [
    {
     "data": {
      "text/plain": [
       "'uoy era woh olleh'"
      ]
     },
     "execution_count": 17,
     "metadata": {},
     "output_type": "execute_result"
    }
   ],
   "source": [
    "n[-1::-1]"
   ]
  },
  {
   "cell_type": "code",
   "execution_count": 18,
   "id": "74e61b20",
   "metadata": {},
   "outputs": [
    {
     "data": {
      "text/plain": [
       "'u'"
      ]
     },
     "execution_count": 18,
     "metadata": {},
     "output_type": "execute_result"
    }
   ],
   "source": [
    "n[-1::1]"
   ]
  },
  {
   "cell_type": "code",
   "execution_count": 19,
   "id": "2d182d22",
   "metadata": {},
   "outputs": [],
   "source": [
    "# with steping"
   ]
  },
  {
   "cell_type": "code",
   "execution_count": 20,
   "id": "f43e2da4",
   "metadata": {},
   "outputs": [
    {
     "data": {
      "text/plain": [
       "'hlohw'"
      ]
     },
     "execution_count": 20,
     "metadata": {},
     "output_type": "execute_result"
    }
   ],
   "source": [
    "n[0:10:2]"
   ]
  },
  {
   "cell_type": "code",
   "execution_count": 21,
   "id": "e75f1367",
   "metadata": {},
   "outputs": [
    {
     "data": {
      "text/plain": [
       "'hlohwaeyu'"
      ]
     },
     "execution_count": 21,
     "metadata": {},
     "output_type": "execute_result"
    }
   ],
   "source": [
    "n[0::2]"
   ]
  },
  {
   "cell_type": "code",
   "execution_count": 22,
   "id": "0e0010df",
   "metadata": {},
   "outputs": [
    {
     "data": {
      "text/plain": [
       "'olleh'"
      ]
     },
     "execution_count": 22,
     "metadata": {},
     "output_type": "execute_result"
    }
   ],
   "source": [
    "n[4::-1]"
   ]
  },
  {
   "cell_type": "code",
   "execution_count": 23,
   "id": "87b1a152",
   "metadata": {},
   "outputs": [
    {
     "data": {
      "text/plain": [
       "'era'"
      ]
     },
     "execution_count": 23,
     "metadata": {},
     "output_type": "execute_result"
    }
   ],
   "source": [
    "n[12:9:-1]"
   ]
  },
  {
   "cell_type": "code",
   "execution_count": 24,
   "id": "e1c35b58",
   "metadata": {},
   "outputs": [
    {
     "data": {
      "text/plain": [
       "'uoy era woh olleh'"
      ]
     },
     "execution_count": 24,
     "metadata": {},
     "output_type": "execute_result"
    }
   ],
   "source": [
    "n[::-1]"
   ]
  },
  {
   "cell_type": "code",
   "execution_count": 26,
   "id": "4890f880",
   "metadata": {},
   "outputs": [
    {
     "data": {
      "text/plain": [
       "'uyeawholh'"
      ]
     },
     "execution_count": 26,
     "metadata": {},
     "output_type": "execute_result"
    }
   ],
   "source": [
    "n[::-2]"
   ]
  },
  {
   "cell_type": "code",
   "execution_count": null,
   "id": "4289b2e7",
   "metadata": {},
   "outputs": [],
   "source": [
    "#practical:-"
   ]
  },
  {
   "cell_type": "code",
   "execution_count": 27,
   "id": "9caceae5",
   "metadata": {},
   "outputs": [],
   "source": [
    "x='hello how are you!!! how you doing???'"
   ]
  },
  {
   "cell_type": "code",
   "execution_count": null,
   "id": "e8d2cdc1",
   "metadata": {},
   "outputs": [],
   "source": [
    "#x[0:5] - 'hello'\n",
    "\n",
    "#x[0::5] - 'h ao yo?'\n",
    "\n",
    "#x[:5:1] - 'hello'\n",
    "\n",
    "#x[::2] - 'hlohwaeyu! o o on??'\n",
    "\n",
    "#x[6:0] - ''\n",
    "\n",
    "#x[0::-1] - 'h'\n",
    "\n",
    "#x[:-1] - 'hell' for string x='hello'\n",
    "\n",
    "#x[::-3] - '?gou h!oe hlh'\n",
    "\n",
    "#'!uoy' -  x[17:13:-1]\n",
    "\n",
    "#'era' -   x[-25:-28:-1] , x[12:9:-1]\n",
    "\n",
    "#'doing???' - x[29:] , x[-8:-1]\n",
    "\n",
    "#'woh !!!' - x[23:16:-1] , x[-14:-21:-1]\n",
    "\n",
    "#'?gniod' - x[-3:-9:-1]\n",
    "\n",
    "#'uywh' -  x[-10:-17:-2]"
   ]
  },
  {
   "cell_type": "code",
   "execution_count": 28,
   "id": "89b50d17",
   "metadata": {},
   "outputs": [],
   "source": [
    "x='hello how are you!!! how you doing???'"
   ]
  },
  {
   "cell_type": "code",
   "execution_count": 57,
   "id": "73324e48",
   "metadata": {},
   "outputs": [
    {
     "data": {
      "text/plain": [
       "'???gniod uoy woh !!!uoy era woh olleh'"
      ]
     },
     "execution_count": 57,
     "metadata": {},
     "output_type": "execute_result"
    }
   ],
   "source": [
    "x[::-1]"
   ]
  },
  {
   "cell_type": "code",
   "execution_count": 58,
   "id": "bc88069e",
   "metadata": {},
   "outputs": [],
   "source": [
    "x='hello'"
   ]
  },
  {
   "cell_type": "code",
   "execution_count": 61,
   "id": "0714a1b4",
   "metadata": {},
   "outputs": [
    {
     "data": {
      "text/plain": [
       "'hell'"
      ]
     },
     "execution_count": 61,
     "metadata": {},
     "output_type": "execute_result"
    }
   ],
   "source": [
    "x[:-1]"
   ]
  },
  {
   "cell_type": "code",
   "execution_count": null,
   "id": "87417615",
   "metadata": {},
   "outputs": [],
   "source": []
  }
 ],
 "metadata": {
  "kernelspec": {
   "display_name": "Python 3 (ipykernel)",
   "language": "python",
   "name": "python3"
  },
  "language_info": {
   "codemirror_mode": {
    "name": "ipython",
    "version": 3
   },
   "file_extension": ".py",
   "mimetype": "text/x-python",
   "name": "python",
   "nbconvert_exporter": "python",
   "pygments_lexer": "ipython3",
   "version": "3.10.5"
  }
 },
 "nbformat": 4,
 "nbformat_minor": 5
}
