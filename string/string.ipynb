{
 "cells": [
  {
   "cell_type": "code",
   "execution_count": 2,
   "id": "a7956dc4",
   "metadata": {},
   "outputs": [],
   "source": [
    "# string Function:-('',\"\",'''''')-immutable"
   ]
  },
  {
   "cell_type": "code",
   "execution_count": 3,
   "id": "0d911c42",
   "metadata": {},
   "outputs": [],
   "source": [
    "s='hello'"
   ]
  },
  {
   "cell_type": "code",
   "execution_count": 4,
   "id": "54b5d20e",
   "metadata": {},
   "outputs": [
    {
     "name": "stdout",
     "output_type": "stream",
     "text": [
      "['__add__', '__class__', '__contains__', '__delattr__', '__dir__', '__doc__', '__eq__', '__format__', '__ge__', '__getattribute__', '__getitem__', '__getnewargs__', '__gt__', '__hash__', '__init__', '__init_subclass__', '__iter__', '__le__', '__len__', '__lt__', '__mod__', '__mul__', '__ne__', '__new__', '__reduce__', '__reduce_ex__', '__repr__', '__rmod__', '__rmul__', '__setattr__', '__sizeof__', '__str__', '__subclasshook__', 'capitalize', 'casefold', 'center', 'count', 'encode', 'endswith', 'expandtabs', 'find', 'format', 'format_map', 'index', 'isalnum', 'isalpha', 'isascii', 'isdecimal', 'isdigit', 'isidentifier', 'islower', 'isnumeric', 'isprintable', 'isspace', 'istitle', 'isupper', 'join', 'ljust', 'lower', 'lstrip', 'maketrans', 'partition', 'removeprefix', 'removesuffix', 'replace', 'rfind', 'rindex', 'rjust', 'rpartition', 'rsplit', 'rstrip', 'split', 'splitlines', 'startswith', 'strip', 'swapcase', 'title', 'translate', 'upper', 'zfill']\n"
     ]
    }
   ],
   "source": [
    "print(dir(str))"
   ]
  },
  {
   "cell_type": "code",
   "execution_count": 5,
   "id": "5b5172dd",
   "metadata": {},
   "outputs": [
    {
     "data": {
      "text/plain": [
       "'Hello'"
      ]
     },
     "execution_count": 5,
     "metadata": {},
     "output_type": "execute_result"
    }
   ],
   "source": [
    "s.capitalize() # first latter capital"
   ]
  },
  {
   "cell_type": "code",
   "execution_count": 6,
   "id": "e3408c82",
   "metadata": {},
   "outputs": [],
   "source": [
    "x='Hello'"
   ]
  },
  {
   "cell_type": "code",
   "execution_count": 7,
   "id": "e8ca650b",
   "metadata": {},
   "outputs": [
    {
     "data": {
      "text/plain": [
       "'Hello'"
      ]
     },
     "execution_count": 7,
     "metadata": {},
     "output_type": "execute_result"
    }
   ],
   "source": [
    "x.capitalize()"
   ]
  },
  {
   "cell_type": "code",
   "execution_count": 8,
   "id": "45bd0c8e",
   "metadata": {},
   "outputs": [],
   "source": [
    "x='hELLO'"
   ]
  },
  {
   "cell_type": "code",
   "execution_count": 9,
   "id": "84ba0d7e",
   "metadata": {},
   "outputs": [
    {
     "data": {
      "text/plain": [
       "'Hello'"
      ]
     },
     "execution_count": 9,
     "metadata": {},
     "output_type": "execute_result"
    }
   ],
   "source": [
    "x.capitalize() #make first letter capital and if other letter are capital then convert in lowercase"
   ]
  },
  {
   "cell_type": "code",
   "execution_count": 10,
   "id": "6797218f",
   "metadata": {},
   "outputs": [],
   "source": [
    "x='hello'"
   ]
  },
  {
   "cell_type": "code",
   "execution_count": 11,
   "id": "5856772b",
   "metadata": {},
   "outputs": [
    {
     "data": {
      "text/plain": [
       "'HELLO'"
      ]
     },
     "execution_count": 11,
     "metadata": {},
     "output_type": "execute_result"
    }
   ],
   "source": [
    "x.upper() #upper case"
   ]
  },
  {
   "cell_type": "code",
   "execution_count": 12,
   "id": "787bd469",
   "metadata": {},
   "outputs": [],
   "source": [
    "x=(x.upper()).lower() #lower case"
   ]
  },
  {
   "cell_type": "code",
   "execution_count": 13,
   "id": "9c4c5c32",
   "metadata": {},
   "outputs": [
    {
     "name": "stdout",
     "output_type": "stream",
     "text": [
      "hello\n"
     ]
    }
   ],
   "source": [
    "print(x)"
   ]
  },
  {
   "cell_type": "code",
   "execution_count": 14,
   "id": "d222c363",
   "metadata": {},
   "outputs": [],
   "source": [
    "x1='Hello'"
   ]
  },
  {
   "cell_type": "code",
   "execution_count": 15,
   "id": "d2dece93",
   "metadata": {},
   "outputs": [
    {
     "data": {
      "text/plain": [
       "'hello'"
      ]
     },
     "execution_count": 15,
     "metadata": {},
     "output_type": "execute_result"
    }
   ],
   "source": [
    "x1.lower()"
   ]
  },
  {
   "cell_type": "code",
   "execution_count": 16,
   "id": "c9fbca33",
   "metadata": {},
   "outputs": [],
   "source": [
    "z='hello how are you??'"
   ]
  },
  {
   "cell_type": "code",
   "execution_count": 17,
   "id": "7c31084c",
   "metadata": {},
   "outputs": [
    {
     "data": {
      "text/plain": [
       "'Hello How Are You??'"
      ]
     },
     "execution_count": 17,
     "metadata": {},
     "output_type": "execute_result"
    }
   ],
   "source": [
    "z.title()"
   ]
  },
  {
   "cell_type": "code",
   "execution_count": 18,
   "id": "d335ef94",
   "metadata": {},
   "outputs": [],
   "source": [
    "z='Hello How Are You??'"
   ]
  },
  {
   "cell_type": "code",
   "execution_count": 19,
   "id": "9e51ea33",
   "metadata": {},
   "outputs": [
    {
     "data": {
      "text/plain": [
       "'Hello How Are You??'"
      ]
     },
     "execution_count": 19,
     "metadata": {},
     "output_type": "execute_result"
    }
   ],
   "source": [
    "z.title()"
   ]
  },
  {
   "cell_type": "code",
   "execution_count": 20,
   "id": "5ea6447a",
   "metadata": {},
   "outputs": [],
   "source": [
    "z='Hello How Are You??'"
   ]
  },
  {
   "cell_type": "code",
   "execution_count": 21,
   "id": "0d5481bb",
   "metadata": {},
   "outputs": [
    {
     "data": {
      "text/plain": [
       "'                                        Hello How Are You??                                         '"
      ]
     },
     "execution_count": 21,
     "metadata": {},
     "output_type": "execute_result"
    }
   ],
   "source": [
    "z.center(100)"
   ]
  },
  {
   "cell_type": "code",
   "execution_count": 22,
   "id": "7a203430",
   "metadata": {},
   "outputs": [
    {
     "data": {
      "text/plain": [
       "'===============Hello How Are You??================'"
      ]
     },
     "execution_count": 22,
     "metadata": {},
     "output_type": "execute_result"
    }
   ],
   "source": [
    "z.center(50,'=')"
   ]
  },
  {
   "cell_type": "code",
   "execution_count": 23,
   "id": "5a25812c",
   "metadata": {},
   "outputs": [
    {
     "data": {
      "text/plain": [
       "19"
      ]
     },
     "execution_count": 23,
     "metadata": {},
     "output_type": "execute_result"
    }
   ],
   "source": [
    "len(z)"
   ]
  },
  {
   "cell_type": "code",
   "execution_count": 24,
   "id": "81a21b16",
   "metadata": {},
   "outputs": [
    {
     "name": "stdout",
     "output_type": "stream",
     "text": [
      "Hello How Are You??\n"
     ]
    }
   ],
   "source": [
    "print(z)"
   ]
  },
  {
   "cell_type": "code",
   "execution_count": 25,
   "id": "9c8d9a5e",
   "metadata": {},
   "outputs": [],
   "source": [
    "s='hello'"
   ]
  },
  {
   "cell_type": "code",
   "execution_count": 26,
   "id": "0f539a0d",
   "metadata": {},
   "outputs": [
    {
     "data": {
      "text/plain": [
       "'hello'"
      ]
     },
     "execution_count": 26,
     "metadata": {},
     "output_type": "execute_result"
    }
   ],
   "source": [
    "s.strip()"
   ]
  },
  {
   "cell_type": "code",
   "execution_count": 27,
   "id": "01d20e96",
   "metadata": {},
   "outputs": [
    {
     "data": {
      "text/plain": [
       "'ello'"
      ]
     },
     "execution_count": 27,
     "metadata": {},
     "output_type": "execute_result"
    }
   ],
   "source": [
    "s.strip('h')"
   ]
  },
  {
   "cell_type": "code",
   "execution_count": 28,
   "id": "3b6346df",
   "metadata": {},
   "outputs": [
    {
     "data": {
      "text/plain": [
       "'hell'"
      ]
     },
     "execution_count": 28,
     "metadata": {},
     "output_type": "execute_result"
    }
   ],
   "source": [
    "s.strip('o')"
   ]
  },
  {
   "cell_type": "code",
   "execution_count": 29,
   "id": "95c1c52a",
   "metadata": {},
   "outputs": [
    {
     "data": {
      "text/plain": [
       "'hello'"
      ]
     },
     "execution_count": 29,
     "metadata": {},
     "output_type": "execute_result"
    }
   ],
   "source": [
    "s.strip('l') # strip function not working bcz string follow original string"
   ]
  },
  {
   "cell_type": "code",
   "execution_count": 30,
   "id": "3fa50e62",
   "metadata": {},
   "outputs": [
    {
     "data": {
      "text/plain": [
       "True"
      ]
     },
     "execution_count": 30,
     "metadata": {},
     "output_type": "execute_result"
    }
   ],
   "source": [
    "x.isalpha()"
   ]
  },
  {
   "cell_type": "code",
   "execution_count": 31,
   "id": "a2a02bc6",
   "metadata": {},
   "outputs": [],
   "source": [
    "n='1236'"
   ]
  },
  {
   "cell_type": "code",
   "execution_count": 32,
   "id": "fb834205",
   "metadata": {},
   "outputs": [
    {
     "data": {
      "text/plain": [
       "True"
      ]
     },
     "execution_count": 32,
     "metadata": {},
     "output_type": "execute_result"
    }
   ],
   "source": [
    "n.isdigit()"
   ]
  },
  {
   "cell_type": "code",
   "execution_count": 33,
   "id": "375c6927",
   "metadata": {},
   "outputs": [],
   "source": [
    "s1='''it is women's\n",
    "                  bag'''"
   ]
  },
  {
   "cell_type": "code",
   "execution_count": 34,
   "id": "8ca667bb",
   "metadata": {},
   "outputs": [],
   "source": [
    "s='vhgdhagjd#vhjghj'"
   ]
  },
  {
   "cell_type": "code",
   "execution_count": 35,
   "id": "ed0980af",
   "metadata": {},
   "outputs": [
    {
     "data": {
      "text/plain": [
       "False"
      ]
     },
     "execution_count": 35,
     "metadata": {},
     "output_type": "execute_result"
    }
   ],
   "source": [
    "s.isalpha()"
   ]
  },
  {
   "cell_type": "code",
   "execution_count": 36,
   "id": "7fd71a60",
   "metadata": {},
   "outputs": [
    {
     "data": {
      "text/plain": [
       "True"
      ]
     },
     "execution_count": 36,
     "metadata": {},
     "output_type": "execute_result"
    }
   ],
   "source": [
    "n.isalnum()"
   ]
  },
  {
   "cell_type": "code",
   "execution_count": 37,
   "id": "c5458627",
   "metadata": {},
   "outputs": [],
   "source": [
    "n='123255#$%'"
   ]
  },
  {
   "cell_type": "code",
   "execution_count": 38,
   "id": "18559331",
   "metadata": {},
   "outputs": [
    {
     "data": {
      "text/plain": [
       "False"
      ]
     },
     "execution_count": 38,
     "metadata": {},
     "output_type": "execute_result"
    }
   ],
   "source": [
    "n.isalnum()"
   ]
  },
  {
   "cell_type": "code",
   "execution_count": 39,
   "id": "65d95299",
   "metadata": {},
   "outputs": [],
   "source": [
    "n='12325bsj'"
   ]
  },
  {
   "cell_type": "code",
   "execution_count": 40,
   "id": "4c726f6e",
   "metadata": {},
   "outputs": [
    {
     "data": {
      "text/plain": [
       "True"
      ]
     },
     "execution_count": 40,
     "metadata": {},
     "output_type": "execute_result"
    }
   ],
   "source": [
    "n.isalnum() #take char & number"
   ]
  },
  {
   "cell_type": "code",
   "execution_count": 41,
   "id": "beb94107",
   "metadata": {},
   "outputs": [],
   "source": [
    "n='hello how are you'"
   ]
  },
  {
   "cell_type": "code",
   "execution_count": 42,
   "id": "92563723",
   "metadata": {},
   "outputs": [
    {
     "data": {
      "text/plain": [
       "False"
      ]
     },
     "execution_count": 42,
     "metadata": {},
     "output_type": "execute_result"
    }
   ],
   "source": [
    "n.isalpha() #no special symbol allowed"
   ]
  },
  {
   "cell_type": "code",
   "execution_count": 43,
   "id": "d1e12231",
   "metadata": {},
   "outputs": [
    {
     "data": {
      "text/plain": [
       "True"
      ]
     },
     "execution_count": 43,
     "metadata": {},
     "output_type": "execute_result"
    }
   ],
   "source": [
    "n.isascii() # returns true whether string is empty or ascii value"
   ]
  },
  {
   "cell_type": "code",
   "execution_count": 44,
   "id": "54066a33",
   "metadata": {},
   "outputs": [],
   "source": [
    "n='#$^^^'"
   ]
  },
  {
   "cell_type": "code",
   "execution_count": 45,
   "id": "5ad2d26f",
   "metadata": {},
   "outputs": [
    {
     "data": {
      "text/plain": [
       "True"
      ]
     },
     "execution_count": 45,
     "metadata": {},
     "output_type": "execute_result"
    }
   ],
   "source": [
    "n.isascii()"
   ]
  },
  {
   "cell_type": "code",
   "execution_count": 46,
   "id": "5b8f8076",
   "metadata": {},
   "outputs": [],
   "source": [
    "s=':)'"
   ]
  },
  {
   "cell_type": "code",
   "execution_count": 47,
   "id": "68c71358",
   "metadata": {},
   "outputs": [
    {
     "data": {
      "text/plain": [
       "True"
      ]
     },
     "execution_count": 47,
     "metadata": {},
     "output_type": "execute_result"
    }
   ],
   "source": [
    "s.isascii()"
   ]
  },
  {
   "cell_type": "code",
   "execution_count": 48,
   "id": "e6c9b983",
   "metadata": {},
   "outputs": [
    {
     "data": {
      "text/plain": [
       "'7'"
      ]
     },
     "execution_count": 48,
     "metadata": {},
     "output_type": "execute_result"
    }
   ],
   "source": [
    "chr(55)"
   ]
  },
  {
   "cell_type": "code",
   "execution_count": 49,
   "id": "f927eb67",
   "metadata": {},
   "outputs": [
    {
     "data": {
      "text/plain": [
       "'#'"
      ]
     },
     "execution_count": 49,
     "metadata": {},
     "output_type": "execute_result"
    }
   ],
   "source": [
    "chr(35)"
   ]
  },
  {
   "cell_type": "code",
   "execution_count": 50,
   "id": "f38dfbe6",
   "metadata": {},
   "outputs": [
    {
     "data": {
      "text/plain": [
       "42"
      ]
     },
     "execution_count": 50,
     "metadata": {},
     "output_type": "execute_result"
    }
   ],
   "source": [
    "ord('*')"
   ]
  },
  {
   "cell_type": "code",
   "execution_count": 51,
   "id": "aa0f64ae",
   "metadata": {},
   "outputs": [],
   "source": [
    "s='hello how are you'"
   ]
  },
  {
   "cell_type": "code",
   "execution_count": 52,
   "id": "95e44775",
   "metadata": {},
   "outputs": [
    {
     "data": {
      "text/plain": [
       "['hello', 'how', 'are', 'you']"
      ]
     },
     "execution_count": 52,
     "metadata": {},
     "output_type": "execute_result"
    }
   ],
   "source": [
    "s.split()"
   ]
  },
  {
   "cell_type": "code",
   "execution_count": 53,
   "id": "43bf6b42",
   "metadata": {},
   "outputs": [
    {
     "data": {
      "text/plain": [
       "['hello ', ' are you']"
      ]
     },
     "execution_count": 53,
     "metadata": {},
     "output_type": "execute_result"
    }
   ],
   "source": [
    "s.split('how')"
   ]
  },
  {
   "cell_type": "code",
   "execution_count": 54,
   "id": "e453b756",
   "metadata": {},
   "outputs": [
    {
     "data": {
      "text/plain": [
       "['hell', ' h', 'w are y', 'u']"
      ]
     },
     "execution_count": 54,
     "metadata": {},
     "output_type": "execute_result"
    }
   ],
   "source": [
    "s.split('o') #splits a string into a list. You can specify the separator, default separator is any whitespace. Note: When maxsplit is specified, the list will contain the specified number of elements plus one."
   ]
  },
  {
   "cell_type": "code",
   "execution_count": 55,
   "id": "0dc968c1",
   "metadata": {},
   "outputs": [],
   "source": [
    "s='hello how are you'"
   ]
  },
  {
   "cell_type": "code",
   "execution_count": 56,
   "id": "dd129e82",
   "metadata": {},
   "outputs": [
    {
     "data": {
      "text/plain": [
       "('hello how ', 'a', 're you')"
      ]
     },
     "execution_count": 56,
     "metadata": {},
     "output_type": "execute_result"
    }
   ],
   "source": [
    "s.partition('a')"
   ]
  },
  {
   "cell_type": "code",
   "execution_count": 57,
   "id": "76cf2648",
   "metadata": {},
   "outputs": [],
   "source": [
    "s='  hello  '"
   ]
  },
  {
   "cell_type": "code",
   "execution_count": 58,
   "id": "92ced3e5",
   "metadata": {},
   "outputs": [
    {
     "data": {
      "text/plain": [
       "'hello'"
      ]
     },
     "execution_count": 58,
     "metadata": {},
     "output_type": "execute_result"
    }
   ],
   "source": [
    "s.strip()"
   ]
  },
  {
   "cell_type": "code",
   "execution_count": 180,
   "id": "c7f56e4b",
   "metadata": {},
   "outputs": [],
   "source": [
    "s='hello how are you'"
   ]
  },
  {
   "cell_type": "code",
   "execution_count": 60,
   "id": "4c834d62",
   "metadata": {},
   "outputs": [
    {
     "data": {
      "text/plain": [
       "'hell# h#w are y#u'"
      ]
     },
     "execution_count": 60,
     "metadata": {},
     "output_type": "execute_result"
    }
   ],
   "source": [
    "s.replace('o','#')"
   ]
  },
  {
   "cell_type": "code",
   "execution_count": 184,
   "id": "116c971d",
   "metadata": {},
   "outputs": [
    {
     "data": {
      "text/plain": [
       "2"
      ]
     },
     "execution_count": 184,
     "metadata": {},
     "output_type": "execute_result"
    }
   ],
   "source": [
    "s.index('llo')"
   ]
  },
  {
   "cell_type": "code",
   "execution_count": 62,
   "id": "e06122f9",
   "metadata": {},
   "outputs": [
    {
     "data": {
      "text/plain": [
       "0"
      ]
     },
     "execution_count": 62,
     "metadata": {},
     "output_type": "execute_result"
    }
   ],
   "source": [
    "s.index('h')"
   ]
  },
  {
   "cell_type": "code",
   "execution_count": 63,
   "id": "38465f49",
   "metadata": {},
   "outputs": [
    {
     "data": {
      "text/plain": [
       "5"
      ]
     },
     "execution_count": 63,
     "metadata": {},
     "output_type": "execute_result"
    }
   ],
   "source": [
    "s.index(' ')"
   ]
  },
  {
   "cell_type": "code",
   "execution_count": 64,
   "id": "857f81c8",
   "metadata": {},
   "outputs": [
    {
     "data": {
      "text/plain": [
       "16"
      ]
     },
     "execution_count": 64,
     "metadata": {},
     "output_type": "execute_result"
    }
   ],
   "source": [
    "s.rindex('u')"
   ]
  },
  {
   "cell_type": "code",
   "execution_count": 65,
   "id": "2f9978f4",
   "metadata": {},
   "outputs": [
    {
     "name": "stdout",
     "output_type": "stream",
     "text": [
      "hello how are you\n"
     ]
    }
   ],
   "source": [
    "print(s)"
   ]
  },
  {
   "cell_type": "code",
   "execution_count": 66,
   "id": "2db47db7",
   "metadata": {},
   "outputs": [
    {
     "data": {
      "text/plain": [
       "16"
      ]
     },
     "execution_count": 66,
     "metadata": {},
     "output_type": "execute_result"
    }
   ],
   "source": [
    "s.rindex('u') #start counting from index no 0"
   ]
  },
  {
   "cell_type": "code",
   "execution_count": 67,
   "id": "51ccae54",
   "metadata": {},
   "outputs": [
    {
     "data": {
      "text/plain": [
       "17"
      ]
     },
     "execution_count": 67,
     "metadata": {},
     "output_type": "execute_result"
    }
   ],
   "source": [
    "len(s)"
   ]
  },
  {
   "cell_type": "code",
   "execution_count": 68,
   "id": "b9c6bf03",
   "metadata": {},
   "outputs": [
    {
     "data": {
      "text/plain": [
       "3"
      ]
     },
     "execution_count": 68,
     "metadata": {},
     "output_type": "execute_result"
    }
   ],
   "source": [
    "s.rindex('l')"
   ]
  },
  {
   "cell_type": "code",
   "execution_count": 69,
   "id": "d5243757",
   "metadata": {},
   "outputs": [
    {
     "data": {
      "text/plain": [
       "15"
      ]
     },
     "execution_count": 69,
     "metadata": {},
     "output_type": "execute_result"
    }
   ],
   "source": [
    "s.rindex('o') #occured latest char"
   ]
  },
  {
   "cell_type": "code",
   "execution_count": 70,
   "id": "2cb5b327",
   "metadata": {},
   "outputs": [
    {
     "data": {
      "text/plain": [
       "'hello how are you'"
      ]
     },
     "execution_count": 70,
     "metadata": {},
     "output_type": "execute_result"
    }
   ],
   "source": [
    "s.casefold() #converts all characters of the string into lowercase letters and returns a new string."
   ]
  },
  {
   "cell_type": "code",
   "execution_count": 71,
   "id": "041efa04",
   "metadata": {},
   "outputs": [],
   "source": [
    "s='HELLO how are you &&&&'"
   ]
  },
  {
   "cell_type": "code",
   "execution_count": 72,
   "id": "c51bfbbf",
   "metadata": {},
   "outputs": [
    {
     "data": {
      "text/plain": [
       "'hello how are you &&&&'"
      ]
     },
     "execution_count": 72,
     "metadata": {},
     "output_type": "execute_result"
    }
   ],
   "source": [
    "s.casefold()"
   ]
  },
  {
   "cell_type": "code",
   "execution_count": 73,
   "id": "c85b6173",
   "metadata": {},
   "outputs": [],
   "source": [
    "s.count?"
   ]
  },
  {
   "cell_type": "code",
   "execution_count": 74,
   "id": "ee85de53",
   "metadata": {
    "scrolled": true
   },
   "outputs": [
    {
     "data": {
      "text/plain": [
       "2"
      ]
     },
     "execution_count": 74,
     "metadata": {},
     "output_type": "execute_result"
    }
   ],
   "source": [
    "s.count('o')"
   ]
  },
  {
   "cell_type": "code",
   "execution_count": 75,
   "id": "60e0fdcb",
   "metadata": {},
   "outputs": [
    {
     "data": {
      "text/plain": [
       "b'HELLO how are you &&&&'"
      ]
     },
     "execution_count": 75,
     "metadata": {},
     "output_type": "execute_result"
    }
   ],
   "source": [
    "s.encode() #converts a string value into a collection of bytes, using an encoding scheme specified by the user."
   ]
  },
  {
   "cell_type": "code",
   "execution_count": 78,
   "id": "05bcd973",
   "metadata": {},
   "outputs": [
    {
     "data": {
      "text/plain": [
       "True"
      ]
     },
     "execution_count": 78,
     "metadata": {},
     "output_type": "execute_result"
    }
   ],
   "source": [
    "s.endswith('&') #returns True if the string ends with the specified value, otherwise False."
   ]
  },
  {
   "cell_type": "code",
   "execution_count": 89,
   "id": "4085371c",
   "metadata": {},
   "outputs": [],
   "source": [
    "x=\"H\\te\\tl\\tl\\to\""
   ]
  },
  {
   "cell_type": "code",
   "execution_count": 102,
   "id": "2a495b90",
   "metadata": {},
   "outputs": [],
   "source": [
    "j=x.expandtabs(100) #sets the tab size to the specified number of whitespaces.\n"
   ]
  },
  {
   "cell_type": "code",
   "execution_count": 103,
   "id": "c2d492f5",
   "metadata": {},
   "outputs": [
    {
     "name": "stdout",
     "output_type": "stream",
     "text": [
      "H                                                                                                   e                                                                                                   l                                                                                                   l                                                                                                   o\n"
     ]
    }
   ],
   "source": [
    "print(j)"
   ]
  },
  {
   "cell_type": "code",
   "execution_count": 106,
   "id": "6be4d672",
   "metadata": {},
   "outputs": [
    {
     "data": {
      "text/plain": [
       "-1"
      ]
     },
     "execution_count": 106,
     "metadata": {},
     "output_type": "execute_result"
    }
   ],
   "source": [
    "s.find('j') #a Python library function that is used to find the index of the first occurrence of a substring from the given string. If find() is unable to locate the substring then it returns -1 instead of throwing an exception."
   ]
  },
  {
   "cell_type": "code",
   "execution_count": 112,
   "id": "1374fb8d",
   "metadata": {},
   "outputs": [],
   "source": [
    "s='hello my name is {fname}'"
   ]
  },
  {
   "cell_type": "code",
   "execution_count": 113,
   "id": "5d2a8a9e",
   "metadata": {},
   "outputs": [
    {
     "data": {
      "text/plain": [
       "'hello my name is jaimini'"
      ]
     },
     "execution_count": 113,
     "metadata": {},
     "output_type": "execute_result"
    }
   ],
   "source": [
    "s.format(fname='jaimini') #technique of the string category permits you to try and do variable substitutions and data formatting."
   ]
  },
  {
   "cell_type": "code",
   "execution_count": 131,
   "id": "7815157d",
   "metadata": {},
   "outputs": [],
   "source": [
    "a = {'x':'Jaimini', 'y':'patel'}"
   ]
  },
  {
   "cell_type": "code",
   "execution_count": 133,
   "id": "90124ebc",
   "metadata": {},
   "outputs": [
    {
     "name": "stdout",
     "output_type": "stream",
     "text": [
      "Jaimini's last name is patel\n"
     ]
    }
   ],
   "source": [
    "print(\"{x}'s last name is {y}\".format_map(a))\n",
    "\n"
   ]
  },
  {
   "cell_type": "code",
   "execution_count": 122,
   "id": "baae4990",
   "metadata": {},
   "outputs": [],
   "source": [
    "x='\\u0033' #returns True if all the characters are decimals (0-9). This method is used on unicode objects."
   ]
  },
  {
   "cell_type": "code",
   "execution_count": 123,
   "id": "363fb8b9",
   "metadata": {},
   "outputs": [
    {
     "data": {
      "text/plain": [
       "True"
      ]
     },
     "execution_count": 123,
     "metadata": {},
     "output_type": "execute_result"
    }
   ],
   "source": [
    "x.isdecimal()"
   ]
  },
  {
   "cell_type": "code",
   "execution_count": 124,
   "id": "80fd852d",
   "metadata": {},
   "outputs": [
    {
     "data": {
      "text/plain": [
       "False"
      ]
     },
     "execution_count": 124,
     "metadata": {},
     "output_type": "execute_result"
    }
   ],
   "source": [
    "s.isidentifier()#returns True if the string is a valid identifier, otherwise False. A string is considered a valid identifier if it only contains alphanumeric letters (a-z) and (0-9), or underscores (_). A valid identifier cannot start with a number, or contain any spaces."
   ]
  },
  {
   "cell_type": "code",
   "execution_count": 5,
   "id": "f1c3df20",
   "metadata": {},
   "outputs": [],
   "source": [
    "s='hello346_'"
   ]
  },
  {
   "cell_type": "code",
   "execution_count": 6,
   "id": "d88d151d",
   "metadata": {},
   "outputs": [
    {
     "data": {
      "text/plain": [
       "True"
      ]
     },
     "execution_count": 6,
     "metadata": {},
     "output_type": "execute_result"
    }
   ],
   "source": [
    "s.isidentifier()"
   ]
  },
  {
   "cell_type": "code",
   "execution_count": 127,
   "id": "5c2c75b1",
   "metadata": {},
   "outputs": [
    {
     "data": {
      "text/plain": [
       "True"
      ]
     },
     "execution_count": 127,
     "metadata": {},
     "output_type": "execute_result"
    }
   ],
   "source": [
    "s.islower()"
   ]
  },
  {
   "cell_type": "code",
   "execution_count": 128,
   "id": "75f6c413",
   "metadata": {},
   "outputs": [
    {
     "data": {
      "text/plain": [
       "False"
      ]
     },
     "execution_count": 128,
     "metadata": {},
     "output_type": "execute_result"
    }
   ],
   "source": [
    "s.isnumeric()"
   ]
  },
  {
   "cell_type": "code",
   "execution_count": 129,
   "id": "3afa9970",
   "metadata": {},
   "outputs": [
    {
     "data": {
      "text/plain": [
       "True"
      ]
     },
     "execution_count": 129,
     "metadata": {},
     "output_type": "execute_result"
    }
   ],
   "source": [
    "s.isprintable() #check string is printable returns true. not conytains \\n etc"
   ]
  },
  {
   "cell_type": "code",
   "execution_count": 134,
   "id": "b7860f74",
   "metadata": {},
   "outputs": [],
   "source": [
    "s='hello\\njaimini'"
   ]
  },
  {
   "cell_type": "code",
   "execution_count": 135,
   "id": "7a7e13ec",
   "metadata": {},
   "outputs": [
    {
     "data": {
      "text/plain": [
       "False"
      ]
     },
     "execution_count": 135,
     "metadata": {},
     "output_type": "execute_result"
    }
   ],
   "source": [
    "s.isprintable()"
   ]
  },
  {
   "cell_type": "code",
   "execution_count": 136,
   "id": "dbb55b7f",
   "metadata": {},
   "outputs": [],
   "source": [
    "s='hello how are you'"
   ]
  },
  {
   "cell_type": "code",
   "execution_count": 137,
   "id": "add7f68c",
   "metadata": {},
   "outputs": [
    {
     "data": {
      "text/plain": [
       "False"
      ]
     },
     "execution_count": 137,
     "metadata": {},
     "output_type": "execute_result"
    }
   ],
   "source": [
    "s.isspace() #returns True if all the characters of the given string are whitespaces. It returns False even if one character is not whitespace"
   ]
  },
  {
   "cell_type": "code",
   "execution_count": 11,
   "id": "64cf2b65",
   "metadata": {},
   "outputs": [],
   "source": [
    "s='\\t\\t'"
   ]
  },
  {
   "cell_type": "code",
   "execution_count": 12,
   "id": "286f46f5",
   "metadata": {},
   "outputs": [
    {
     "data": {
      "text/plain": [
       "True"
      ]
     },
     "execution_count": 12,
     "metadata": {},
     "output_type": "execute_result"
    }
   ],
   "source": [
    "s.isspace()"
   ]
  },
  {
   "cell_type": "code",
   "execution_count": 9,
   "id": "073dcf2a",
   "metadata": {},
   "outputs": [],
   "source": [
    "s=' '"
   ]
  },
  {
   "cell_type": "code",
   "execution_count": 10,
   "id": "97155780",
   "metadata": {},
   "outputs": [
    {
     "data": {
      "text/plain": [
       "True"
      ]
     },
     "execution_count": 10,
     "metadata": {},
     "output_type": "execute_result"
    }
   ],
   "source": [
    "s.isspace()\n"
   ]
  },
  {
   "cell_type": "code",
   "execution_count": 147,
   "id": "18b62302",
   "metadata": {},
   "outputs": [
    {
     "data": {
      "text/plain": [
       "False"
      ]
     },
     "execution_count": 147,
     "metadata": {},
     "output_type": "execute_result"
    }
   ],
   "source": [
    "s.istitle()"
   ]
  },
  {
   "cell_type": "code",
   "execution_count": null,
   "id": "409ea89a",
   "metadata": {},
   "outputs": [],
   "source": [
    "s='HELLO ARE YOU READY?'"
   ]
  },
  {
   "cell_type": "code",
   "execution_count": 148,
   "id": "9de654a3",
   "metadata": {},
   "outputs": [
    {
     "data": {
      "text/plain": [
       "False"
      ]
     },
     "execution_count": 148,
     "metadata": {},
     "output_type": "execute_result"
    }
   ],
   "source": [
    "s.istitle() #returns the following Boolean values: True – if the input string is a titlecased string. False – if the input string is not a titlecased string or if the string is empty."
   ]
  },
  {
   "cell_type": "code",
   "execution_count": 150,
   "id": "bfbe4f8e",
   "metadata": {},
   "outputs": [],
   "source": [
    "s='Hello How Are You'"
   ]
  },
  {
   "cell_type": "code",
   "execution_count": 151,
   "id": "26be7b2e",
   "metadata": {},
   "outputs": [
    {
     "data": {
      "text/plain": [
       "True"
      ]
     },
     "execution_count": 151,
     "metadata": {},
     "output_type": "execute_result"
    }
   ],
   "source": [
    "s.istitle()"
   ]
  },
  {
   "cell_type": "code",
   "execution_count": 153,
   "id": "a54dee05",
   "metadata": {},
   "outputs": [],
   "source": [
    "s='HELLO'"
   ]
  },
  {
   "cell_type": "code",
   "execution_count": 154,
   "id": "435b94c2",
   "metadata": {},
   "outputs": [
    {
     "data": {
      "text/plain": [
       "True"
      ]
     },
     "execution_count": 154,
     "metadata": {},
     "output_type": "execute_result"
    }
   ],
   "source": [
    "s.isupper()"
   ]
  },
  {
   "cell_type": "code",
   "execution_count": 156,
   "id": "b506e7ab",
   "metadata": {},
   "outputs": [
    {
     "data": {
      "text/plain": [
       "'#'"
      ]
     },
     "execution_count": 156,
     "metadata": {},
     "output_type": "execute_result"
    }
   ],
   "source": [
    "s.join('#')"
   ]
  },
  {
   "cell_type": "code",
   "execution_count": 168,
   "id": "33895d60",
   "metadata": {},
   "outputs": [],
   "source": [
    "s='hello how are you'\n",
    "s1='#^&*'"
   ]
  },
  {
   "cell_type": "code",
   "execution_count": 169,
   "id": "292d2ff5",
   "metadata": {},
   "outputs": [
    {
     "data": {
      "text/plain": [
       "'#hello how are you^hello how are you&hello how are you*'"
      ]
     },
     "execution_count": 169,
     "metadata": {},
     "output_type": "execute_result"
    }
   ],
   "source": [
    "s.join(s1)"
   ]
  },
  {
   "cell_type": "code",
   "execution_count": 13,
   "id": "7cc74c92",
   "metadata": {},
   "outputs": [],
   "source": [
    "s='hello'"
   ]
  },
  {
   "cell_type": "code",
   "execution_count": 15,
   "id": "f73188b1",
   "metadata": {},
   "outputs": [
    {
     "data": {
      "text/plain": [
       "'hello###############'"
      ]
     },
     "execution_count": 15,
     "metadata": {},
     "output_type": "execute_result"
    }
   ],
   "source": [
    "s.ljust(20,'#') #method will left align the string, using a specified character (space is default) as the fill character."
   ]
  },
  {
   "cell_type": "code",
   "execution_count": 19,
   "id": "e97e89bf",
   "metadata": {},
   "outputs": [],
   "source": [
    "s='... fyu,, hii'"
   ]
  },
  {
   "cell_type": "code",
   "execution_count": 20,
   "id": "8708b6d7",
   "metadata": {},
   "outputs": [],
   "source": [
    "x=s.lstrip('.,&')"
   ]
  },
  {
   "cell_type": "code",
   "execution_count": 21,
   "id": "c5c4d264",
   "metadata": {},
   "outputs": [
    {
     "name": "stdout",
     "output_type": "stream",
     "text": [
      " fyu,, hii\n"
     ]
    }
   ],
   "source": [
    "print(x)"
   ]
  },
  {
   "cell_type": "code",
   "execution_count": 200,
   "id": "e04de1d8",
   "metadata": {},
   "outputs": [
    {
     "name": "stdout",
     "output_type": "stream",
     "text": [
      "banana,,,\n"
     ]
    }
   ],
   "source": [
    "txt = \",,,,,ssaaww.....banana,,,\"\n",
    "\n",
    "x = txt.lstrip(\",.asw\")\n",
    "\n",
    "print(x)\n"
   ]
  },
  {
   "cell_type": "code",
   "execution_count": 32,
   "id": "fec3329b",
   "metadata": {},
   "outputs": [],
   "source": [
    "s='hello i am jaimini'"
   ]
  },
  {
   "cell_type": "code",
   "execution_count": 33,
   "id": "18839bb0",
   "metadata": {},
   "outputs": [],
   "source": [
    "mytable=s.maketrans('jaimini','amnitya') #returns a mapping table that can be used with the translate() method to replace specified characters."
   ]
  },
  {
   "cell_type": "code",
   "execution_count": 35,
   "id": "2836b410",
   "metadata": {},
   "outputs": [
    {
     "name": "stdout",
     "output_type": "stream",
     "text": [
      "hello a mi amaiaya\n"
     ]
    }
   ],
   "source": [
    "print(s.translate(mytable))"
   ]
  },
  {
   "cell_type": "code",
   "execution_count": 36,
   "id": "0681082e",
   "metadata": {},
   "outputs": [],
   "source": [
    "s='hello i am jaimini'"
   ]
  },
  {
   "cell_type": "code",
   "execution_count": 37,
   "id": "2d2fb36d",
   "metadata": {},
   "outputs": [],
   "source": [
    "mytable=s.maketrans('j','a')"
   ]
  },
  {
   "cell_type": "code",
   "execution_count": 39,
   "id": "e6c5f632",
   "metadata": {},
   "outputs": [
    {
     "name": "stdout",
     "output_type": "stream",
     "text": [
      "hello i am aaimini\n"
     ]
    }
   ],
   "source": [
    "print(s.translate(mytable))"
   ]
  },
  {
   "cell_type": "code",
   "execution_count": 40,
   "id": "a9b0d27b",
   "metadata": {},
   "outputs": [],
   "source": [
    "s='geeksforgeek'"
   ]
  },
  {
   "cell_type": "code",
   "execution_count": 42,
   "id": "af7901e7",
   "metadata": {},
   "outputs": [
    {
     "data": {
      "text/plain": [
       "'geek'"
      ]
     },
     "execution_count": 42,
     "metadata": {},
     "output_type": "execute_result"
    }
   ],
   "source": [
    "s.removeprefix('geeksfor') #removes the prefix and returns the rest of the string. If the prefix string is not found, then it returns the original string."
   ]
  },
  {
   "cell_type": "code",
   "execution_count": 44,
   "id": "28b4b037",
   "metadata": {},
   "outputs": [
    {
     "data": {
      "text/plain": [
       "'geeksforge'"
      ]
     },
     "execution_count": 44,
     "metadata": {},
     "output_type": "execute_result"
    }
   ],
   "source": [
    "s.removesuffix('ek') #remove whitespace and other characters from a string in Python. The most commonly known methods are strip()"
   ]
  },
  {
   "cell_type": "code",
   "execution_count": 46,
   "id": "1da4c813",
   "metadata": {},
   "outputs": [
    {
     "data": {
      "text/plain": [
       "8"
      ]
     },
     "execution_count": 46,
     "metadata": {},
     "output_type": "execute_result"
    }
   ],
   "source": [
    "s.rfind('g')# method finds the last occurrence of the specified value. The rfind() method returns -1 if the value is not found. The rfind() method is almost the ..."
   ]
  },
  {
   "cell_type": "code",
   "execution_count": 48,
   "id": "a6c336ea",
   "metadata": {},
   "outputs": [
    {
     "data": {
      "text/plain": [
       "'        geeksforgeek'"
      ]
     },
     "execution_count": 48,
     "metadata": {},
     "output_type": "execute_result"
    }
   ],
   "source": [
    "s.rjust(20)"
   ]
  },
  {
   "cell_type": "code",
   "execution_count": 54,
   "id": "3553350d",
   "metadata": {},
   "outputs": [
    {
     "data": {
      "text/plain": [
       "('geeksfor', 'g', 'eek')"
      ]
     },
     "execution_count": 54,
     "metadata": {},
     "output_type": "execute_result"
    }
   ],
   "source": [
    "s.rpartition('g') #separates the string from the last occurrence of the separator."
   ]
  },
  {
   "cell_type": "code",
   "execution_count": 59,
   "id": "82c1f0de",
   "metadata": {},
   "outputs": [
    {
     "data": {
      "text/plain": [
       "('geeks', 'f', 'orgeek')"
      ]
     },
     "execution_count": 59,
     "metadata": {},
     "output_type": "execute_result"
    }
   ],
   "source": [
    "s.partition('f')#splits the string from the first occurrence of the separator,"
   ]
  },
  {
   "cell_type": "code",
   "execution_count": 78,
   "id": "cb6022cd",
   "metadata": {},
   "outputs": [],
   "source": [
    "s=' hello how are you '"
   ]
  },
  {
   "cell_type": "code",
   "execution_count": 74,
   "id": "10c610e8",
   "metadata": {},
   "outputs": [
    {
     "data": {
      "text/plain": [
       "['', 'ello ', 'ow are you']"
      ]
     },
     "execution_count": 74,
     "metadata": {},
     "output_type": "execute_result"
    }
   ],
   "source": [
    "s.rsplit('h')"
   ]
  },
  {
   "cell_type": "code",
   "execution_count": 76,
   "id": "888c6510",
   "metadata": {},
   "outputs": [
    {
     "data": {
      "text/plain": [
       "['', 'ello ', 'ow are you']"
      ]
     },
     "execution_count": 76,
     "metadata": {},
     "output_type": "execute_result"
    }
   ],
   "source": [
    "s.split('h')"
   ]
  },
  {
   "cell_type": "code",
   "execution_count": 80,
   "id": "e45fe5cc",
   "metadata": {},
   "outputs": [
    {
     "data": {
      "text/plain": [
       "' hello how are you'"
      ]
     },
     "execution_count": 80,
     "metadata": {},
     "output_type": "execute_result"
    }
   ],
   "source": [
    "s.rstrip()"
   ]
  },
  {
   "cell_type": "code",
   "execution_count": 82,
   "id": "ace63ebf",
   "metadata": {},
   "outputs": [
    {
     "name": "stdout",
     "output_type": "stream",
     "text": [
      "['Thank you for the music', 'Welcome to the jungle']\n"
     ]
    }
   ],
   "source": [
    "txt = \"Thank you for the music\\nWelcome to the jungle\"\n",
    "\n",
    "x = txt.splitlines()\n",
    "\n",
    "print(x)\n"
   ]
  },
  {
   "cell_type": "code",
   "execution_count": 85,
   "id": "fe69e76d",
   "metadata": {},
   "outputs": [
    {
     "data": {
      "text/plain": [
       "True"
      ]
     },
     "execution_count": 85,
     "metadata": {},
     "output_type": "execute_result"
    }
   ],
   "source": [
    "s.startswith(' ')"
   ]
  },
  {
   "cell_type": "code",
   "execution_count": 88,
   "id": "e0f21dc4",
   "metadata": {},
   "outputs": [
    {
     "data": {
      "text/plain": [
       "' HELLO HOW ARE YOU '"
      ]
     },
     "execution_count": 88,
     "metadata": {},
     "output_type": "execute_result"
    }
   ],
   "source": [
    "s.swapcase() #Make the lower case letters upper case and the upper case letters lower case:"
   ]
  },
  {
   "cell_type": "code",
   "execution_count": 92,
   "id": "a90bb406",
   "metadata": {},
   "outputs": [
    {
     "data": {
      "text/plain": [
       "' hello how are you '"
      ]
     },
     "execution_count": 92,
     "metadata": {},
     "output_type": "execute_result"
    }
   ],
   "source": [
    "s.translate('h')"
   ]
  },
  {
   "cell_type": "code",
   "execution_count": 100,
   "id": "8f0b6f39",
   "metadata": {},
   "outputs": [],
   "source": [
    "s='50125555'"
   ]
  },
  {
   "cell_type": "code",
   "execution_count": 102,
   "id": "8b5063a2",
   "metadata": {},
   "outputs": [
    {
     "data": {
      "text/plain": [
       "'50125555'"
      ]
     },
     "execution_count": 102,
     "metadata": {},
     "output_type": "execute_result"
    }
   ],
   "source": [
    "s.zfill(-2)"
   ]
  },
  {
   "cell_type": "code",
   "execution_count": 104,
   "id": "26971a78",
   "metadata": {},
   "outputs": [],
   "source": [
    "s='hello'"
   ]
  },
  {
   "cell_type": "code",
   "execution_count": 105,
   "id": "abd2be1d",
   "metadata": {},
   "outputs": [
    {
     "data": {
      "text/plain": [
       "'00000hello'"
      ]
     },
     "execution_count": 105,
     "metadata": {},
     "output_type": "execute_result"
    }
   ],
   "source": [
    "s.zfill(10) #method adds zeros (0) at the beginning of the string, until it reaches the specified length. If the value of the len parameter is less than the ..."
   ]
  }
 ],
 "metadata": {
  "kernelspec": {
   "display_name": "Python 3 (ipykernel)",
   "language": "python",
   "name": "python3"
  },
  "language_info": {
   "codemirror_mode": {
    "name": "ipython",
    "version": 3
   },
   "file_extension": ".py",
   "mimetype": "text/x-python",
   "name": "python",
   "nbconvert_exporter": "python",
   "pygments_lexer": "ipython3",
   "version": "3.10.5"
  }
 },
 "nbformat": 4,
 "nbformat_minor": 5
}
