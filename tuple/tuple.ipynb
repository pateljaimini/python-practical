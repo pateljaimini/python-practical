{
 "cells": [
  {
   "cell_type": "code",
   "execution_count": 1,
   "id": "0e1e5d55",
   "metadata": {},
   "outputs": [],
   "source": [
    "#tuple :- imutable"
   ]
  },
  {
   "cell_type": "code",
   "execution_count": 15,
   "id": "5a26cd6e",
   "metadata": {},
   "outputs": [],
   "source": [
    "t=(1,2,'abc',11.20,True,1)"
   ]
  },
  {
   "cell_type": "code",
   "execution_count": 4,
   "id": "71b0fb8b",
   "metadata": {},
   "outputs": [
    {
     "name": "stdout",
     "output_type": "stream",
     "text": [
      "['__add__', '__class__', '__class_getitem__', '__contains__', '__delattr__', '__dir__', '__doc__', '__eq__', '__format__', '__ge__', '__getattribute__', '__getitem__', '__getnewargs__', '__gt__', '__hash__', '__init__', '__init_subclass__', '__iter__', '__le__', '__len__', '__lt__', '__mul__', '__ne__', '__new__', '__reduce__', '__reduce_ex__', '__repr__', '__rmul__', '__setattr__', '__sizeof__', '__str__', '__subclasshook__', 'count', 'index']\n"
     ]
    }
   ],
   "source": [
    "print(dir(tuple))"
   ]
  },
  {
   "cell_type": "code",
   "execution_count": 9,
   "id": "00a757c3",
   "metadata": {},
   "outputs": [
    {
     "data": {
      "text/plain": [
       "1"
      ]
     },
     "execution_count": 9,
     "metadata": {},
     "output_type": "execute_result"
    }
   ],
   "source": [
    "t.count('abc') #returns the number of times a specified value appears in the tuple."
   ]
  },
  {
   "cell_type": "code",
   "execution_count": 17,
   "id": "c6d8626c",
   "metadata": {},
   "outputs": [
    {
     "data": {
      "text/plain": [
       "3"
      ]
     },
     "execution_count": 17,
     "metadata": {},
     "output_type": "execute_result"
    }
   ],
   "source": [
    "t.count(1)"
   ]
  },
  {
   "cell_type": "code",
   "execution_count": 19,
   "id": "93d8f0aa",
   "metadata": {},
   "outputs": [],
   "source": [
    "t=(1,1,11.20)"
   ]
  },
  {
   "cell_type": "code",
   "execution_count": 21,
   "id": "7c3b428a",
   "metadata": {},
   "outputs": [
    {
     "data": {
      "text/plain": [
       "2"
      ]
     },
     "execution_count": 21,
     "metadata": {},
     "output_type": "execute_result"
    }
   ],
   "source": [
    "t.count(1)"
   ]
  },
  {
   "cell_type": "code",
   "execution_count": 28,
   "id": "ba604d27",
   "metadata": {},
   "outputs": [],
   "source": [
    "t=(1,2,'abc',11.20,1,True)"
   ]
  },
  {
   "cell_type": "code",
   "execution_count": 31,
   "id": "818db6c4",
   "metadata": {},
   "outputs": [
    {
     "data": {
      "text/plain": [
       "3"
      ]
     },
     "execution_count": 31,
     "metadata": {},
     "output_type": "execute_result"
    }
   ],
   "source": [
    "t.count(1)"
   ]
  },
  {
   "cell_type": "code",
   "execution_count": 34,
   "id": "56fc972c",
   "metadata": {},
   "outputs": [
    {
     "data": {
      "text/plain": [
       "2"
      ]
     },
     "execution_count": 34,
     "metadata": {},
     "output_type": "execute_result"
    }
   ],
   "source": [
    "t.index('abc')"
   ]
  },
  {
   "cell_type": "code",
   "execution_count": 36,
   "id": "f563f898",
   "metadata": {},
   "outputs": [
    {
     "data": {
      "text/plain": [
       "True"
      ]
     },
     "execution_count": 36,
     "metadata": {},
     "output_type": "execute_result"
    }
   ],
   "source": [
    "t[-1]"
   ]
  },
  {
   "cell_type": "code",
   "execution_count": 38,
   "id": "01212dc5",
   "metadata": {},
   "outputs": [
    {
     "data": {
      "text/plain": [
       "11.2"
      ]
     },
     "execution_count": 38,
     "metadata": {},
     "output_type": "execute_result"
    }
   ],
   "source": [
    "t[-3]"
   ]
  },
  {
   "cell_type": "code",
   "execution_count": 40,
   "id": "cb9988a3",
   "metadata": {},
   "outputs": [
    {
     "data": {
      "text/plain": [
       "'b'"
      ]
     },
     "execution_count": 40,
     "metadata": {},
     "output_type": "execute_result"
    }
   ],
   "source": [
    "t[2][1]"
   ]
  },
  {
   "cell_type": "code",
   "execution_count": 42,
   "id": "f2acf92e",
   "metadata": {},
   "outputs": [
    {
     "data": {
      "text/plain": [
       "(True, 1, 11.2, 'abc', 2, 1)"
      ]
     },
     "execution_count": 42,
     "metadata": {},
     "output_type": "execute_result"
    }
   ],
   "source": [
    "t[::-1]"
   ]
  },
  {
   "cell_type": "code",
   "execution_count": 44,
   "id": "66184244",
   "metadata": {},
   "outputs": [
    {
     "data": {
      "text/plain": [
       "(1, 2, 'abc', 11.2, 1, True)"
      ]
     },
     "execution_count": 44,
     "metadata": {},
     "output_type": "execute_result"
    }
   ],
   "source": [
    "t"
   ]
  },
  {
   "cell_type": "code",
   "execution_count": 47,
   "id": "c7f65b4b",
   "metadata": {},
   "outputs": [
    {
     "data": {
      "text/plain": [
       "(1, 2, 'abc', 11.2, 1, True)"
      ]
     },
     "execution_count": 47,
     "metadata": {},
     "output_type": "execute_result"
    }
   ],
   "source": [
    "t[0:]"
   ]
  },
  {
   "cell_type": "code",
   "execution_count": 49,
   "id": "603f32d9",
   "metadata": {},
   "outputs": [
    {
     "data": {
      "text/plain": [
       "(1, 'abc', 1)"
      ]
     },
     "execution_count": 49,
     "metadata": {},
     "output_type": "execute_result"
    }
   ],
   "source": [
    "t[0::2]"
   ]
  },
  {
   "cell_type": "code",
   "execution_count": 53,
   "id": "e542ad3e",
   "metadata": {},
   "outputs": [
    {
     "data": {
      "text/plain": [
       "(1, 2, 'abc')"
      ]
     },
     "execution_count": 53,
     "metadata": {},
     "output_type": "execute_result"
    }
   ],
   "source": [
    "t[0:-3:]"
   ]
  },
  {
   "cell_type": "code",
   "execution_count": 56,
   "id": "003f443e",
   "metadata": {},
   "outputs": [
    {
     "data": {
      "text/plain": [
       "('abc', 2, 1)"
      ]
     },
     "execution_count": 56,
     "metadata": {},
     "output_type": "execute_result"
    }
   ],
   "source": [
    "t[-4::-1]"
   ]
  },
  {
   "cell_type": "code",
   "execution_count": 59,
   "id": "7e950780",
   "metadata": {},
   "outputs": [
    {
     "data": {
      "text/plain": [
       "('abc', 2, 1)"
      ]
     },
     "execution_count": 59,
     "metadata": {},
     "output_type": "execute_result"
    }
   ],
   "source": [
    "t[0:3][2::-1]"
   ]
  },
  {
   "cell_type": "code",
   "execution_count": 61,
   "id": "6e10a31a",
   "metadata": {},
   "outputs": [
    {
     "data": {
      "text/plain": [
       "'cba'"
      ]
     },
     "execution_count": 61,
     "metadata": {},
     "output_type": "execute_result"
    }
   ],
   "source": [
    "t[2][2::-1]"
   ]
  },
  {
   "cell_type": "code",
   "execution_count": 63,
   "id": "fb2efd8c",
   "metadata": {},
   "outputs": [
    {
     "data": {
      "text/plain": [
       "()"
      ]
     },
     "execution_count": 63,
     "metadata": {},
     "output_type": "execute_result"
    }
   ],
   "source": [
    "t[0:3][2:-1:-1]"
   ]
  },
  {
   "cell_type": "code",
   "execution_count": 65,
   "id": "e27a5126",
   "metadata": {},
   "outputs": [],
   "source": [
    "t=(11, 'hello', 'xyz', 22, 33, 11, 'hello')"
   ]
  },
  {
   "cell_type": "code",
   "execution_count": 67,
   "id": "e8e45b95",
   "metadata": {},
   "outputs": [
    {
     "data": {
      "text/plain": [
       "'olleh'"
      ]
     },
     "execution_count": 67,
     "metadata": {},
     "output_type": "execute_result"
    }
   ],
   "source": [
    "t[-1][::-1]"
   ]
  },
  {
   "cell_type": "code",
   "execution_count": 69,
   "id": "115b0054",
   "metadata": {},
   "outputs": [
    {
     "data": {
      "text/plain": [
       "'hel'"
      ]
     },
     "execution_count": 69,
     "metadata": {},
     "output_type": "execute_result"
    }
   ],
   "source": [
    "t[-1][0:3]"
   ]
  },
  {
   "cell_type": "code",
   "execution_count": 72,
   "id": "7418caf5",
   "metadata": {},
   "outputs": [
    {
     "data": {
      "text/plain": [
       "'lo'"
      ]
     },
     "execution_count": 72,
     "metadata": {},
     "output_type": "execute_result"
    }
   ],
   "source": [
    "t[-1][3:]"
   ]
  },
  {
   "cell_type": "code",
   "execution_count": 75,
   "id": "37fbfdf9",
   "metadata": {},
   "outputs": [
    {
     "data": {
      "text/plain": [
       "'lleh'"
      ]
     },
     "execution_count": 75,
     "metadata": {},
     "output_type": "execute_result"
    }
   ],
   "source": [
    "t[-1][3::-1]"
   ]
  },
  {
   "cell_type": "code",
   "execution_count": 82,
   "id": "1d73f01d",
   "metadata": {},
   "outputs": [],
   "source": [
    "x=('hello how are you!!! how you doing???',1,2)"
   ]
  },
  {
   "cell_type": "code",
   "execution_count": 85,
   "id": "f2e5934f",
   "metadata": {},
   "outputs": [
    {
     "data": {
      "text/plain": [
       "'?gou h!oe hlh'"
      ]
     },
     "execution_count": 85,
     "metadata": {},
     "output_type": "execute_result"
    }
   ],
   "source": [
    "x[0][::-3]"
   ]
  },
  {
   "cell_type": "code",
   "execution_count": 80,
   "id": "c7169390",
   "metadata": {},
   "outputs": [
    {
     "data": {
      "text/plain": [
       "tuple"
      ]
     },
     "execution_count": 80,
     "metadata": {},
     "output_type": "execute_result"
    }
   ],
   "source": [
    "type(x)"
   ]
  },
  {
   "cell_type": "code",
   "execution_count": 81,
   "id": "469d6504",
   "metadata": {},
   "outputs": [],
   "source": [
    "# practical"
   ]
  },
  {
   "cell_type": "code",
   "execution_count": null,
   "id": "444cc8ee",
   "metadata": {},
   "outputs": [],
   "source": [
    "#x[0][0:5] - 'hello'\n",
    "\n",
    "#x[0][6:0] - ''\n",
    "\n",
    "#x[0][0::-1] -'h'\n",
    "\n",
    "#x[0][::-3] - '?gou h!oe hlh'\n"
   ]
  }
 ],
 "metadata": {
  "kernelspec": {
   "display_name": "Python 3 (ipykernel)",
   "language": "python",
   "name": "python3"
  },
  "language_info": {
   "codemirror_mode": {
    "name": "ipython",
    "version": 3
   },
   "file_extension": ".py",
   "mimetype": "text/x-python",
   "name": "python",
   "nbconvert_exporter": "python",
   "pygments_lexer": "ipython3",
   "version": "3.10.5"
  }
 },
 "nbformat": 4,
 "nbformat_minor": 5
}
